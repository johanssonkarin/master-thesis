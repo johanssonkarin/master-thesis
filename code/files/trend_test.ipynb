{
 "cells": [
  {
   "cell_type": "markdown",
   "metadata": {},
   "source": [
    "# Trends: Test and Outputs"
   ]
  },
  {
   "cell_type": "code",
   "execution_count": null,
   "metadata": {},
   "outputs": [],
   "source": [
    "# Import packages\n",
    "from matplotlib import pyplot as plt\n",
    "from importlib import reload\n",
    "import seaborn as sns\n",
    "import pandas as pd\n",
    "import numpy as np\n",
    "import datetime\n",
    "import random\n",
    "import scipy\n",
    "import math\n",
    "\n",
    "# Import model classes\n",
    "from substation import Substation\n",
    "from PV import PV"
   ]
  },
  {
   "cell_type": "markdown",
   "metadata": {},
   "source": [
    "## Model Settings"
   ]
  },
  {
   "cell_type": "code",
   "execution_count": null,
   "metadata": {},
   "outputs": [],
   "source": [
    "resload_dict = {'HouseNew': 10,\n",
    "                'HouseOld' : 10, \n",
    "                'HouseDH': 0, \n",
    "                'ApartmentNewDH': 0\n",
    "               }\n"
   ]
  },
  {
   "cell_type": "markdown",
   "metadata": {},
   "source": [
    "# Energy Efficiency"
   ]
  },
  {
   "cell_type": "code",
   "execution_count": null,
   "metadata": {
    "scrolled": true
   },
   "outputs": [],
   "source": [
    "def test_efficiency():\n",
    "    efficiency_percent = 0.3 # Reduce values with 30%\n",
    "    num_loads = 20\n",
    "    station = Substation('Stockholm')\n",
    "    \n",
    "    # Add loads to substation\n",
    "    for load,num in resload_dict.items():\n",
    "        station.add_residential_load(load,num)\n",
    "    \n",
    "    # Reduce data to 1 year (jan-dec)\n",
    "    station.update_aggregated_col()\n",
    "    station.filter_whole_years(jan_start = True, num = 1)\n",
    "    \n",
    "    # Calculate max and load curve before trend\n",
    "    max_before = station.dataframe['AggregatedLoad'].max()\n",
    "    before = station.dataframe['AggregatedLoad'].sort_values(ascending=False).tolist()\n",
    "    \n",
    "    # Introduce efficiency trend\n",
    "    station.introduce_efficiency(percent = efficiency_percent, num = num_loads)\n",
    "    \n",
    "    # Calculate max and load curve after trend\n",
    "    station.update_aggregated_col()\n",
    "    max_after = station.dataframe['AggregatedLoad'].max()\n",
    "    after = station.dataframe['AggregatedLoad'].sort_values(ascending=False).tolist()\n",
    "    \n",
    "    # Plot load duration curves of before and after\n",
    "    t = np.linspace(0, len(before)+1,len(before))\n",
    "    plt.plot(t, before, label='Substation without EE') # plotting t, a separately \n",
    "    plt.plot(t, after, label='Substation with EE') # plotting t, b separately\n",
    "    plt.title('Substation Load Duration Curve')\n",
    "    plt.legend(loc='upper right')\n",
    "    plt.xlabel('Hours')\n",
    "    plt.ylabel('Consumption [kWh]')\n",
    "    plt.show()\n",
    "    \n",
    "    # Print\n",
    "    print('The maximal instant consumption of the substation with {} loads is {} without any energy efficiency and {} with a {}% reduction.'.format(station.ID_count,max_before,max_after, int(efficiency_percent*100)))\n",
    "    print('Through {}% energy efficency of {} loads, out of {}, the peak consumption is reduced by {}%'.format(int(efficiency_percent*100),num_loads, station.ID_count, round((1-(max_after/max_before))*100,2)))\n",
    "%matplotlib notebook    \n",
    "test_efficiency()"
   ]
  },
  {
   "cell_type": "markdown",
   "metadata": {},
   "source": [
    "# PV"
   ]
  },
  {
   "cell_type": "code",
   "execution_count": null,
   "metadata": {},
   "outputs": [],
   "source": [
    "def test_pv():\n",
    "    station = Substation('Stockholm')\n",
    "    \n",
    "    # Add loads to substation\n",
    "    for load,num in resload_dict.items():\n",
    "        station.add_residential_load(load,num)\n",
    "    \n",
    "    # Calculate 1 year consumption with and without PV\n",
    "    station.update_aggregated_col()\n",
    "    station.filter_whole_years(jan_start = True, num = 1)\n",
    "    station.add_PV(size = 400)\n",
    "    before = station.dataframe['AggregatedLoad'].sort_values(ascending=False).tolist()\n",
    "    station.update_aggregated_col()\n",
    "    after = station.dataframe['AggregatedLoad'].sort_values(ascending=False).tolist()\n",
    "    \n",
    "    # Plot load duration curves of before and after\n",
    "    t = np.linspace(0, len(before)+1,len(before))\n",
    "    plt.plot(t, before, label='Substation without PV') # plotting t, a separately \n",
    "    plt.plot(t, after, label='Substation with PV') # plotting t, b separately\n",
    "    plt.title('Substation Load Duration Curve')\n",
    "    plt.legend(loc='upper right')\n",
    "    plt.xlabel('Hours')\n",
    "    plt.ylabel('Consumption [kWh]')\n",
    "    plt.show()\n",
    "    \n",
    "    '''\n",
    "    station.print_insights(duration_curve = True,\n",
    "                           month_plot = False, \n",
    "                           weekday_plot = False, \n",
    "                           hour_plot = False)\n",
    "    '''\n",
    "%matplotlib notebook\n",
    "test_pv()"
   ]
  },
  {
   "cell_type": "markdown",
   "metadata": {},
   "source": [
    "# Office Load"
   ]
  },
  {
   "cell_type": "code",
   "execution_count": null,
   "metadata": {},
   "outputs": [],
   "source": [
    "def test_office():\n",
    "    station = Substation('Stockholm')\n",
    "    \n",
    "    #add loads\n",
    "    for load,num in resload_dict.items():\n",
    "        station.add_residential_load(load,num)\n",
    "    \n",
    "    '''station.print_insights(duration_curve = True,\n",
    "                        month_plot = False, \n",
    "                        weekday_plot = False, \n",
    "                        hour_plot = False)''' \n",
    "    station.filter_whole_years(num = 1, jan_start = True)\n",
    "    station.calculate_norm()\n",
    "    before = station.dataframe['AggregatedLoad'].sort_values(ascending=False).tolist()\n",
    "    \n",
    "    print('No Office')\n",
    "    print('Hourly average: ', station.mu)\n",
    "    print('Hourly max: ', station.dataframe['AggregatedLoad'].max())\n",
    "    \n",
    "    print('\\n')\n",
    "    station.add_office()\n",
    "    print('{} Office'.format(station.office_count))\n",
    "    '''station.print_insights(duration_curve = True,\n",
    "                        month_plot = False, \n",
    "                        weekday_plot = False, \n",
    "                        hour_plot = False)''' \n",
    "    station.calculate_norm()\n",
    "    \n",
    "    print('Hourly average: ', station.mu)\n",
    "    print('Hourly max: ', station.dataframe['AggregatedLoad'].max())\n",
    "    \n",
    "    after = station.dataframe['AggregatedLoad'].sort_values(ascending=False).tolist()\n",
    "    office = station.dataframe[station.ID_count].sort_values(ascending=False).tolist()\n",
    "\n",
    "    \n",
    "    # Plot load duration curves of before and after\n",
    "    t = np.linspace(0, len(before)+1,len(before))\n",
    "    plt.plot(t, before, label='Substation without office') \n",
    "    plt.plot(t, after, label='Substation with {} office'.format(station.office_count))\n",
    "    plt.plot(t, office, label='Only Office')\n",
    "    plt.title('Substation Load Duration Curve')\n",
    "    plt.legend(loc='upper right')\n",
    "    plt.xlabel('Hours')\n",
    "    plt.ylabel('Consumption [kWh]')\n",
    "    plt.show()\n",
    "    \n",
    "test_office()"
   ]
  },
  {
   "cell_type": "code",
   "execution_count": null,
   "metadata": {},
   "outputs": [],
   "source": [
    "#offices from datasets\n",
    "from office import Office\n",
    "office = Office(ID = 1, region='Stockholm', size = 12402, start = '2019-01-01', end = '2020-01-01')\n",
    "office.dataframe.head()\n",
    "print(office.kwhref, office.kwhp)\n",
    "#office.be_random(sigma=0.7)"
   ]
  },
  {
   "cell_type": "markdown",
   "metadata": {},
   "source": [
    "# Static Flex"
   ]
  },
  {
   "cell_type": "code",
   "execution_count": null,
   "metadata": {},
   "outputs": [],
   "source": [
    "def test_flex(days = 50, percent_loads = 0.50, reduction = 0.50):\n",
    "    # create empty station\n",
    "    station = Substation('Stockholm')\n",
    "    \n",
    "    #add loads\n",
    "    for load,num in resload_dict.items():\n",
    "        station.add_residential_load(load,num)\n",
    "\n",
    "    #find instant max \n",
    "    station.update_aggregated_col()\n",
    "    max_consumption = station.dataframe['AggregatedLoad'].max()\n",
    "    max_time_before = station.find_max()\n",
    "    before = station.dataframe['AggregatedLoad'].sort_values(ascending=False).tolist()\n",
    "    \n",
    "    \n",
    "    #load duration curve before\n",
    "    '''station.print_insights(duration_curve = True,\n",
    "                           month_plot = False, \n",
    "                           weekday_plot = False, \n",
    "                           hour_plot = False)'''\n",
    "    \n",
    "    #infer flexible loads\n",
    "    station.introduce_flexibility(days, percent_loads, reduction, only_noDH = False)\n",
    "    \n",
    "    #find instant max with flex\n",
    "    station.update_aggregated_col()\n",
    "    max_flex_consumption = station.dataframe['AggregatedLoad'].max()\n",
    "    \n",
    "    #load duration curve after\n",
    "    '''station.print_insights(duration_curve = True,\n",
    "                           month_plot = False, \n",
    "                           weekday_plot = False, \n",
    "                           hour_plot = False)'''\n",
    "    \n",
    "    after = station.dataframe['AggregatedLoad'].sort_values(ascending=False).tolist()\n",
    "    max_time_after = station.find_max()\n",
    "    %matplotlib notebook\n",
    "    # Plot load duration curves of before and after\n",
    "    t = np.linspace(0, len(before)+1,len(before))\n",
    "    # Plotting b before a for a more descriptive graph\n",
    "    plt.plot(t, before, label='Substation without flex') # plotting t, a separately \n",
    "    plt.plot(t, after, label='Substation with flex') # plotting t, b separately\n",
    "    plt.title('Substation Load Duration Curve')\n",
    "    plt.legend(loc='upper right')\n",
    "    plt.xlabel('Hours')\n",
    "    plt.ylabel('Consumption [kWh]')\n",
    "    plt.show()\n",
    "    \n",
    "    print('The maximal instant consumption of the substation with {} loads is {} without demand side flexibility and {} with {} flexible loads.'.format(station.load_count,max_consumption,max_flex_consumption,station.flex_count))\n",
    "    print('Before flex peak occured at {} and after peak occurs at {}.'.format(max_time_before,max_time_after))\n",
    "test_flex()"
   ]
  },
  {
   "cell_type": "markdown",
   "metadata": {},
   "source": [
    "# Office from datasets"
   ]
  },
  {
   "cell_type": "code",
   "execution_count": null,
   "metadata": {},
   "outputs": [],
   "source": [
    "station = Substation('Stockholm')\n",
    "#add loads\n",
    "for load,num in resload_dict.items():\n",
    "    station.add_residential_load(load,num)\n",
    "    \n",
    "station.filter_whole_years(jan_start = True, num = 1)\n",
    "\n",
    "station.add_EV(5, 5, 0.2)"
   ]
  },
  {
   "cell_type": "code",
   "execution_count": null,
   "metadata": {},
   "outputs": [],
   "source": [
    "%matplotlib notebook\n",
    "station.plot_single_load(26, start = '2016-01-01', end = '2016-01-02')\n"
   ]
  },
  {
   "cell_type": "markdown",
   "metadata": {},
   "source": [
    "# Optimal Flex"
   ]
  },
  {
   "cell_type": "code",
   "execution_count": 1,
   "metadata": {},
   "outputs": [],
   "source": [
    "import pandas as pd\n",
    "import numpy as np\n",
    "import matplotlib.pyplot as plt\n",
    "\n",
    "from substation import Substation\n",
    "\n",
    "region = 'Stockholm'\n",
    "\n",
    "# Loads\n",
    "resload_dict = {'HouseNew': 5,\n",
    "                'HouseOld' : 0, \n",
    "                'HouseDH': 0, \n",
    "                'ApartmentNewDH': 0\n",
    "               }\n",
    "\n",
    "# Create substation\n",
    "station = Substation(region)\n",
    "    \n",
    "# Add residential loads to susbstation\n",
    "for load,num in resload_dict.items():\n",
    "    station.add_residential_load(load,num)\n",
    "    \n",
    "station.update_aggregated_col()\n",
    "\n",
    "#station.introduce_optimal_flex()"
   ]
  },
  {
   "cell_type": "code",
   "execution_count": null,
   "metadata": {},
   "outputs": [],
   "source": [
    "%matplotlib notebook\n",
    "df = station.dataframe['2018']\n",
    "\n",
    "plt.plot(df['AggregatedLoad'])\n",
    "plt.plot(df['OptimalLoad'])\n",
    "plt.show()\n",
    "\n",
    "print('Sum before: ',sum(station.dataframe['AggregatedLoad']))\n",
    "print('Sum after: ',sum(station.dataframe['OptimalLoad']))\n",
    "print('\\n')\n",
    "print('Peak before:',station.dataframe['AggregatedLoad'].max())\n",
    "print('Peak after:',station.dataframe['OptimalLoad'].max())"
   ]
  },
  {
   "cell_type": "code",
   "execution_count": 11,
   "metadata": {},
   "outputs": [],
   "source": [
    "thelist = [1, 25, 50, 75, 90, 99]\n",
    "dict(zip(keys, values))\n",
    "result = np.percentile(station.dataframe['AggregatedLoad'], q=thelist)"
   ]
  },
  {
   "cell_type": "code",
   "execution_count": 12,
   "metadata": {},
   "outputs": [
    {
     "data": {
      "text/plain": [
       "<zip at 0x1a1abd1e48>"
      ]
     },
     "execution_count": 12,
     "metadata": {},
     "output_type": "execute_result"
    }
   ],
   "source": [
    "zip(result,thelist)"
   ]
  },
  {
   "cell_type": "code",
   "execution_count": 9,
   "metadata": {},
   "outputs": [
    {
     "data": {
      "text/plain": [
       "10.22399291585557"
      ]
     },
     "execution_count": 9,
     "metadata": {},
     "output_type": "execute_result"
    }
   ],
   "source": [
    "station.dataframe['AggregatedLoad'].mean()"
   ]
  },
  {
   "cell_type": "code",
   "execution_count": 49,
   "metadata": {},
   "outputs": [],
   "source": [
    "data = pd.read_csv('../../data/Stockholm/Residential/OLD_COPY_new_apartments_district_heating.csv', index_col = 0, parse_dates = True)"
   ]
  },
  {
   "cell_type": "code",
   "execution_count": 50,
   "metadata": {},
   "outputs": [],
   "source": [
    "ind = pd.date_range(start = '2016-01-01', end = '2020-01-01', freq='H')"
   ]
  },
  {
   "cell_type": "code",
   "execution_count": 51,
   "metadata": {},
   "outputs": [],
   "source": [
    "data = data.reindex(ind)"
   ]
  },
  {
   "cell_type": "code",
   "execution_count": 53,
   "metadata": {},
   "outputs": [],
   "source": [
    "fill2019 = data['2018'].apply(np.roll, shift=1)\n",
    "fill2019.index = fill2019.index.map(lambda x: x + pd.DateOffset(years = 1))"
   ]
  },
  {
   "cell_type": "code",
   "execution_count": 54,
   "metadata": {},
   "outputs": [],
   "source": [
    "data['2019'] = data['2019'].combine_first(fill2019)"
   ]
  },
  {
   "cell_type": "code",
   "execution_count": 58,
   "metadata": {},
   "outputs": [],
   "source": [
    "data.to_csv('/Users/karinjohansson/Documents/GitHub/master-thesis/data/Stockholm/Residential/new_apartments_district_heating.csv')"
   ]
  },
  {
   "cell_type": "code",
   "execution_count": 57,
   "metadata": {},
   "outputs": [
    {
     "data": {
      "text/html": [
       "<div>\n",
       "<style scoped>\n",
       "    .dataframe tbody tr th:only-of-type {\n",
       "        vertical-align: middle;\n",
       "    }\n",
       "\n",
       "    .dataframe tbody tr th {\n",
       "        vertical-align: top;\n",
       "    }\n",
       "\n",
       "    .dataframe thead th {\n",
       "        text-align: right;\n",
       "    }\n",
       "</style>\n",
       "<table border=\"1\" class=\"dataframe\">\n",
       "  <thead>\n",
       "    <tr style=\"text-align: right;\">\n",
       "      <th></th>\n",
       "      <th>1</th>\n",
       "      <th>2</th>\n",
       "      <th>3</th>\n",
       "      <th>4</th>\n",
       "      <th>5</th>\n",
       "      <th>6</th>\n",
       "      <th>7</th>\n",
       "      <th>8</th>\n",
       "      <th>9</th>\n",
       "      <th>10</th>\n",
       "      <th>...</th>\n",
       "      <th>25</th>\n",
       "      <th>26</th>\n",
       "      <th>27</th>\n",
       "      <th>28</th>\n",
       "      <th>29</th>\n",
       "      <th>30</th>\n",
       "      <th>31</th>\n",
       "      <th>32</th>\n",
       "      <th>33</th>\n",
       "      <th>34</th>\n",
       "    </tr>\n",
       "  </thead>\n",
       "  <tbody>\n",
       "    <tr>\n",
       "      <th>2019-12-31 19:00:00</th>\n",
       "      <td>0.064</td>\n",
       "      <td>0.055</td>\n",
       "      <td>0.100</td>\n",
       "      <td>1.992</td>\n",
       "      <td>0.660</td>\n",
       "      <td>0.067</td>\n",
       "      <td>1.027</td>\n",
       "      <td>0.134</td>\n",
       "      <td>0.036</td>\n",
       "      <td>0.042</td>\n",
       "      <td>...</td>\n",
       "      <td>0.186</td>\n",
       "      <td>0.146</td>\n",
       "      <td>0.474</td>\n",
       "      <td>0.546</td>\n",
       "      <td>0.041</td>\n",
       "      <td>0.047</td>\n",
       "      <td>0.213</td>\n",
       "      <td>0.261</td>\n",
       "      <td>0.057</td>\n",
       "      <td>0.213</td>\n",
       "    </tr>\n",
       "    <tr>\n",
       "      <th>2019-12-31 20:00:00</th>\n",
       "      <td>0.054</td>\n",
       "      <td>0.041</td>\n",
       "      <td>0.051</td>\n",
       "      <td>2.605</td>\n",
       "      <td>1.317</td>\n",
       "      <td>0.185</td>\n",
       "      <td>0.457</td>\n",
       "      <td>0.393</td>\n",
       "      <td>0.055</td>\n",
       "      <td>0.043</td>\n",
       "      <td>...</td>\n",
       "      <td>0.189</td>\n",
       "      <td>0.380</td>\n",
       "      <td>0.255</td>\n",
       "      <td>0.433</td>\n",
       "      <td>0.069</td>\n",
       "      <td>0.064</td>\n",
       "      <td>0.209</td>\n",
       "      <td>0.235</td>\n",
       "      <td>0.129</td>\n",
       "      <td>0.264</td>\n",
       "    </tr>\n",
       "    <tr>\n",
       "      <th>2019-12-31 21:00:00</th>\n",
       "      <td>0.050</td>\n",
       "      <td>0.018</td>\n",
       "      <td>0.033</td>\n",
       "      <td>1.776</td>\n",
       "      <td>0.819</td>\n",
       "      <td>0.083</td>\n",
       "      <td>0.383</td>\n",
       "      <td>0.598</td>\n",
       "      <td>0.029</td>\n",
       "      <td>0.042</td>\n",
       "      <td>...</td>\n",
       "      <td>0.180</td>\n",
       "      <td>0.901</td>\n",
       "      <td>0.209</td>\n",
       "      <td>0.276</td>\n",
       "      <td>0.015</td>\n",
       "      <td>0.066</td>\n",
       "      <td>0.206</td>\n",
       "      <td>0.267</td>\n",
       "      <td>0.160</td>\n",
       "      <td>0.406</td>\n",
       "    </tr>\n",
       "    <tr>\n",
       "      <th>2019-12-31 22:00:00</th>\n",
       "      <td>0.068</td>\n",
       "      <td>0.077</td>\n",
       "      <td>0.106</td>\n",
       "      <td>1.266</td>\n",
       "      <td>0.672</td>\n",
       "      <td>0.077</td>\n",
       "      <td>1.007</td>\n",
       "      <td>0.299</td>\n",
       "      <td>0.056</td>\n",
       "      <td>0.043</td>\n",
       "      <td>...</td>\n",
       "      <td>0.179</td>\n",
       "      <td>0.196</td>\n",
       "      <td>0.231</td>\n",
       "      <td>0.251</td>\n",
       "      <td>0.070</td>\n",
       "      <td>0.047</td>\n",
       "      <td>0.189</td>\n",
       "      <td>0.255</td>\n",
       "      <td>0.158</td>\n",
       "      <td>0.266</td>\n",
       "    </tr>\n",
       "    <tr>\n",
       "      <th>2019-12-31 23:00:00</th>\n",
       "      <td>0.035</td>\n",
       "      <td>0.018</td>\n",
       "      <td>0.037</td>\n",
       "      <td>1.129</td>\n",
       "      <td>0.614</td>\n",
       "      <td>0.068</td>\n",
       "      <td>0.222</td>\n",
       "      <td>0.411</td>\n",
       "      <td>0.037</td>\n",
       "      <td>0.043</td>\n",
       "      <td>...</td>\n",
       "      <td>0.171</td>\n",
       "      <td>0.086</td>\n",
       "      <td>0.246</td>\n",
       "      <td>0.260</td>\n",
       "      <td>0.014</td>\n",
       "      <td>0.059</td>\n",
       "      <td>0.208</td>\n",
       "      <td>0.449</td>\n",
       "      <td>0.157</td>\n",
       "      <td>0.288</td>\n",
       "    </tr>\n",
       "  </tbody>\n",
       "</table>\n",
       "<p>5 rows × 34 columns</p>\n",
       "</div>"
      ],
      "text/plain": [
       "                         1      2      3      4      5      6      7      8  \\\n",
       "2019-12-31 19:00:00  0.064  0.055  0.100  1.992  0.660  0.067  1.027  0.134   \n",
       "2019-12-31 20:00:00  0.054  0.041  0.051  2.605  1.317  0.185  0.457  0.393   \n",
       "2019-12-31 21:00:00  0.050  0.018  0.033  1.776  0.819  0.083  0.383  0.598   \n",
       "2019-12-31 22:00:00  0.068  0.077  0.106  1.266  0.672  0.077  1.007  0.299   \n",
       "2019-12-31 23:00:00  0.035  0.018  0.037  1.129  0.614  0.068  0.222  0.411   \n",
       "\n",
       "                         9     10  ...     25     26     27     28     29  \\\n",
       "2019-12-31 19:00:00  0.036  0.042  ...  0.186  0.146  0.474  0.546  0.041   \n",
       "2019-12-31 20:00:00  0.055  0.043  ...  0.189  0.380  0.255  0.433  0.069   \n",
       "2019-12-31 21:00:00  0.029  0.042  ...  0.180  0.901  0.209  0.276  0.015   \n",
       "2019-12-31 22:00:00  0.056  0.043  ...  0.179  0.196  0.231  0.251  0.070   \n",
       "2019-12-31 23:00:00  0.037  0.043  ...  0.171  0.086  0.246  0.260  0.014   \n",
       "\n",
       "                        30     31     32     33     34  \n",
       "2019-12-31 19:00:00  0.047  0.213  0.261  0.057  0.213  \n",
       "2019-12-31 20:00:00  0.064  0.209  0.235  0.129  0.264  \n",
       "2019-12-31 21:00:00  0.066  0.206  0.267  0.160  0.406  \n",
       "2019-12-31 22:00:00  0.047  0.189  0.255  0.158  0.266  \n",
       "2019-12-31 23:00:00  0.059  0.208  0.449  0.157  0.288  \n",
       "\n",
       "[5 rows x 34 columns]"
      ]
     },
     "execution_count": 57,
     "metadata": {},
     "output_type": "execute_result"
    }
   ],
   "source": [
    "data.tail()"
   ]
  },
  {
   "cell_type": "code",
   "execution_count": 56,
   "metadata": {},
   "outputs": [],
   "source": [
    "data.drop(data.tail(1).index,inplace=True)"
   ]
  },
  {
   "cell_type": "code",
   "execution_count": null,
   "metadata": {},
   "outputs": [],
   "source": []
  }
 ],
 "metadata": {
  "kernelspec": {
   "display_name": "Python 3",
   "language": "python",
   "name": "python3"
  },
  "language_info": {
   "codemirror_mode": {
    "name": "ipython",
    "version": 3
   },
   "file_extension": ".py",
   "mimetype": "text/x-python",
   "name": "python",
   "nbconvert_exporter": "python",
   "pygments_lexer": "ipython3",
   "version": "3.7.1"
  }
 },
 "nbformat": 4,
 "nbformat_minor": 2
}
