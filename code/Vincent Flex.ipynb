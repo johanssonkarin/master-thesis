{
 "cells": [
  {
   "cell_type": "markdown",
   "metadata": {},
   "source": [
    "# Optimal Flex"
   ]
  },
  {
   "cell_type": "code",
   "execution_count": 3,
   "metadata": {},
   "outputs": [],
   "source": [
    "import pandas as pd\n",
    "import numpy as np\n",
    "import matplotlib.pyplot as plt\n",
    "\n",
    "from substation import Substation\n",
    "\n",
    "region = 'Stockholm'\n",
    "\n",
    "# Loads\n",
    "resload_dict = {'HouseNew': 5,\n",
    "                'HouseOld' : 5, \n",
    "                'HouseDH': 5, \n",
    "                'ApartmentNewDH': 0\n",
    "               }\n",
    "\n",
    "# Create substation\n",
    "station = Substation(region)\n",
    "    \n",
    "# Add residential loads to susbstation\n",
    "for load,num in resload_dict.items():\n",
    "    station.add_residential_load(load,num)\n",
    "    \n",
    "station.update_aggregated_col()\n",
    "\n",
    "#station.introduce_optimal_flex()"
   ]
  },
  {
   "cell_type": "code",
   "execution_count": null,
   "metadata": {},
   "outputs": [],
   "source": [
    "station.dataframe.head(24)"
   ]
  },
  {
   "cell_type": "code",
   "execution_count": null,
   "metadata": {},
   "outputs": [],
   "source": [
    "%matplotlib notebook\n",
    "df = station.dataframe['2018']\n",
    "\n",
    "plt.plot(df['AggregatedLoad'])\n",
    "plt.plot(df['OptimalLoad'])\n",
    "plt.show()"
   ]
  },
  {
   "cell_type": "code",
   "execution_count": null,
   "metadata": {},
   "outputs": [],
   "source": [
    "print('Sum before: ',sum(station.dataframe['AggregatedLoad']))\n",
    "print('Sum after: ',sum(station.dataframe['OptimalLoad']))\n",
    "print('\\n')\n",
    "print('Peak before:',station.dataframe['AggregatedLoad'].max())\n",
    "print('Peak after:',station.dataframe['OptimalLoad'].max())"
   ]
  }
 ],
 "metadata": {
  "kernelspec": {
   "display_name": "Python 3",
   "language": "python",
   "name": "python3"
  },
  "language_info": {
   "codemirror_mode": {
    "name": "ipython",
    "version": 3
   },
   "file_extension": ".py",
   "mimetype": "text/x-python",
   "name": "python",
   "nbconvert_exporter": "python",
   "pygments_lexer": "ipython3",
   "version": "3.7.1"
  }
 },
 "nbformat": 4,
 "nbformat_minor": 2
}
