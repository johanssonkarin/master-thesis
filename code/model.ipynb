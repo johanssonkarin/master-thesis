{
 "cells": [
  {
   "cell_type": "markdown",
   "metadata": {},
   "source": [
    "# Electrical Substation Model"
   ]
  },
  {
   "cell_type": "markdown",
   "metadata": {},
   "source": [
    "### Imports"
   ]
  },
  {
   "cell_type": "code",
   "execution_count": null,
   "metadata": {},
   "outputs": [],
   "source": [
    "import pandas as pd\n",
    "import numpy as np"
   ]
  },
  {
   "cell_type": "markdown",
   "metadata": {},
   "source": [
    "## Model Settings"
   ]
  },
  {
   "cell_type": "code",
   "execution_count": null,
   "metadata": {},
   "outputs": [],
   "source": [
    "region = 'Stockholm'\n",
    "\n",
    "# Loads\n",
    "offices = 1\n",
    "load_dict = {'HouseNew': 10,\n",
    "             'HouseOld' : 10, \n",
    "             'HouseDH': 10, \n",
    "             'ApartmentNewDH': 30\n",
    "            }\n",
    "\n",
    "# Flex\n",
    "is_flex = False\n",
    "flex_days = 50\n",
    "percent_flex_loads = 0.30\n",
    "flex_reduction = 0.50\n",
    "\n",
    "# PV\n",
    "PV_69 = 0\n",
    "PV_400 = 1\n",
    "PV_868 = 0\n",
    "\n",
    "# EV\n",
    "num_EVs = 0\n",
    "\n",
    "# Energy Efficiency\n",
    "is_efficient = False\n",
    "efficiency_percent = 0.3 # Reduce values with 30%\n",
    "num_loads = 20"
   ]
  },
  {
   "cell_type": "code",
   "execution_count": null,
   "metadata": {},
   "outputs": [],
   "source": [
    "def simulation(load_dict, region):\n",
    "    \n",
    "    station = \n",
    "    \n",
    "    # Add loads to substation\n",
    "    for load,num in load_dict.items():\n",
    "        station.add_residential_load(load,num)"
   ]
  },
  {
   "cell_type": "code",
   "execution_count": null,
   "metadata": {},
   "outputs": [],
   "source": []
  }
 ],
 "metadata": {
  "kernelspec": {
   "display_name": "Python 3",
   "language": "python",
   "name": "python3"
  },
  "language_info": {
   "codemirror_mode": {
    "name": "ipython",
    "version": 3
   },
   "file_extension": ".py",
   "mimetype": "text/x-python",
   "name": "python",
   "nbconvert_exporter": "python",
   "pygments_lexer": "ipython3",
   "version": "3.7.1"
  }
 },
 "nbformat": 4,
 "nbformat_minor": 2
}
