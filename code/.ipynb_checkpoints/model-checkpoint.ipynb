{
 "cells": [
  {
   "cell_type": "markdown",
   "metadata": {},
   "source": [
    "# The Model"
   ]
  },
  {
   "cell_type": "markdown",
   "metadata": {},
   "source": [
    "### Imports"
   ]
  },
  {
   "cell_type": "code",
   "execution_count": null,
   "metadata": {},
   "outputs": [],
   "source": [
    "import pandas as pd\n",
    "import numpy as np\n",
    "\n",
    "from substation import Substation\n",
    "from net import Net"
   ]
  },
  {
   "cell_type": "markdown",
   "metadata": {},
   "source": [
    "## Model Settings"
   ]
  },
  {
   "cell_type": "code",
   "execution_count": null,
   "metadata": {},
   "outputs": [],
   "source": [
    "region = 'Stockholm'\n",
    "\n",
    "# Loads\n",
    "offices = 1\n",
    "load_dict = {'HouseNew': 10,\n",
    "             'HouseOld' : 10, \n",
    "             'HouseDH': 10, \n",
    "             'ApartmentNewDH': 30\n",
    "            }\n",
    "\n",
    "# PV\n",
    "PV_69 = 0\n",
    "PV_400 = 1\n",
    "PV_868 = 0\n",
    "\n",
    "# EV\n",
    "num_EV = 10\n",
    "num_parkingloc = 10\n",
    "\n",
    "# Energy Efficiency\n",
    "is_efficient = True\n",
    "efficiency_percent = 0.3 # Reduce values with 30%\n",
    "efficient_loads = 20\n",
    "\n",
    "# Flex\n",
    "is_flex = True\n",
    "flex_days = 50\n",
    "percent_flex_loads = 0.30\n",
    "flex_reduction = 0.50\n",
    "flex_only_noDH = True\n"
   ]
  },
  {
   "cell_type": "code",
   "execution_count": null,
   "metadata": {},
   "outputs": [],
   "source": [
    "def scenario_substation(region,\n",
    "                        load_dict, \n",
    "                        offices, \n",
    "                        PV_69, \n",
    "                        PV_400, \n",
    "                        PV_868, \n",
    "                        num_EV, \n",
    "                        num_parkingloc,\n",
    "                        mpg_mean,\n",
    "                        is_efficient, \n",
    "                        efficiency_percent, \n",
    "                        efficient_loads, \n",
    "                        is_flex, \n",
    "                        flex_days, \n",
    "                        percent_flex_loads, \n",
    "                        flex_reduction,\n",
    "                        flex_only_noDH):\n",
    "    \n",
    "    # Create substation\n",
    "    station = Substation(region)\n",
    "    \n",
    "    # Add residential loads to susbstation\n",
    "    for load,num in load_dict.items():\n",
    "        station.add_residential_load(load,num)\n",
    "        \n",
    "    # Add offices\n",
    "    if offices > 0:\n",
    "        station.add_office(num = offices)\n",
    "    \n",
    "    # Add PVs\n",
    "    if PV_69 > 0:\n",
    "        station.add_PV(size = 69, \n",
    "                       num = PV_69)\n",
    "        \n",
    "    if PV_400 > 0:\n",
    "        station.add_PV(size = 400, \n",
    "                       num = PV_400)\n",
    "        \n",
    "    if PV_868 > 0:\n",
    "        station.add_PV(size = 868, \n",
    "                       num = PV_868)\n",
    "    \n",
    "    # Add EVs\n",
    "    if num_EV > 0:\n",
    "        station.add_EV(num_EV, num_parkingloc, mpg_mu)\n",
    "    \n",
    "    # Introduce EE\n",
    "    if is_efficient:\n",
    "        station.introduce_efficiency(percent = efficiency_percent, \n",
    "                                     num = efficient_loads)\n",
    "    \n",
    "    # Introduce Flex\n",
    "    if is_flex:\n",
    "        station.introduce_flexibility(days = flex_days, \n",
    "                                      percent_loads = percent_flex_loads, \n",
    "                                      reduction = flex_reduction, \n",
    "                                      only_noDH = flex_only_noDH)\n",
    "        \n",
    "    return station"
   ]
  },
  {
   "cell_type": "code",
   "execution_count": null,
   "metadata": {},
   "outputs": [],
   "source": [
    "station1 = scenario_substation(region,\n",
    "                               load_dict, \n",
    "                               offices, \n",
    "                               PV_69, \n",
    "                               PV_400, \n",
    "                               PV_868, \n",
    "                               num_EVs,\n",
    "                               num_parkingloc,\n",
    "                               mpg_mean,\n",
    "                               is_efficient, \n",
    "                               efficiency_percent, \n",
    "                               efficient_loads, \n",
    "                               is_flex, \n",
    "                               flex_days, \n",
    "                               percent_flex_loads, \n",
    "                               flex_reduction,\n",
    "                               flex_only_noDH)"
   ]
  },
  {
   "cell_type": "code",
   "execution_count": null,
   "metadata": {},
   "outputs": [],
   "source": [
    "net = Net()\n",
    "net.add_station(station1)\n",
    "net.dataframe.head(30)"
   ]
  },
  {
   "cell_type": "code",
   "execution_count": null,
   "metadata": {},
   "outputs": [],
   "source": [
    "#net.del_station(3)\n",
    "station1.print_insights(duration_curve = True,\n",
    "                        month_plot = False, \n",
    "                        weekday_plot = False, \n",
    "                        hour_plot = False)"
   ]
  },
  {
   "cell_type": "code",
   "execution_count": null,
   "metadata": {},
   "outputs": [],
   "source": []
  },
  {
   "cell_type": "code",
   "execution_count": null,
   "metadata": {},
   "outputs": [],
   "source": []
  }
 ],
 "metadata": {
  "kernelspec": {
   "display_name": "Python 3",
   "language": "python",
   "name": "python3"
  },
  "language_info": {
   "codemirror_mode": {
    "name": "ipython",
    "version": 3
   },
   "file_extension": ".py",
   "mimetype": "text/x-python",
   "name": "python",
   "nbconvert_exporter": "python",
   "pygments_lexer": "ipython3",
   "version": "3.7.1"
  }
 },
 "nbformat": 4,
 "nbformat_minor": 2
}
