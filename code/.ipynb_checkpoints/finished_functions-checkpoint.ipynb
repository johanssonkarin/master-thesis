{
 "cells": [
  {
   "cell_type": "markdown",
   "metadata": {},
   "source": [
    "# Electricity Consumption Model: Work in Progress"
   ]
  },
  {
   "cell_type": "markdown",
   "metadata": {},
   "source": [
    "## Setup"
   ]
  },
  {
   "cell_type": "code",
   "execution_count": 1,
   "metadata": {},
   "outputs": [],
   "source": [
    "# Importing libraries \n",
    "from matplotlib import pyplot as plt\n",
    "import pandas as pd\n",
    "import numpy as np\n",
    "import datetime\n",
    "import math\n",
    "import warnings\n",
    "import random\n",
    "import os\n",
    "import scipy\n",
    "import seaborn as sns\n",
    "\n",
    "# Squash warning messages for cleaner output in the notebook\n",
    "warnings.showwarning = lambda *args, **kwargs: None"
   ]
  },
  {
   "cell_type": "markdown",
   "metadata": {},
   "source": [
    "## Defining Functions"
   ]
  },
  {
   "cell_type": "markdown",
   "metadata": {},
   "source": [
    "### Preprocessing"
   ]
  },
  {
   "cell_type": "code",
   "execution_count": 2,
   "metadata": {},
   "outputs": [],
   "source": [
    "# Function creating a (hopefully) cleaner dataframe of load profiles\n",
    "# from a csv-path. Printing of info is by default False and deleting\n",
    "# zero columns with 25% zeros set to True. Developed for the format of\n",
    "# the csv-files from Gudmund. \n",
    "\n",
    "def clean_gudmund_csv(csv_path, prnt = False, del_zeros_all = False, del_zeros_percent = True, \n",
    "                      interpolate = True, percent_drop_zeros = 0.25):\n",
    "    \n",
    "    dataframe = pd.read_csv(csv_path, index_col=0, parse_dates=True)\n",
    "    drop_thresh_row = int(dataframe.shape[1]*0.80) #drop if ~20% of row is empty\n",
    "    dataframe.dropna(axis=0, thresh = drop_thresh_row, inplace=True) #first row\n",
    "    \n",
    "    drop_thresh_col = int(dataframe.shape[0]*0.90) #drop if ~10% of column is empty\n",
    "    dataframe.dropna(axis=1, thresh = drop_thresh_col, inplace=True) #then col\n",
    "    \n",
    "    if del_zeros_percent: #delete columns with a percentage of zeros\n",
    "        drop_zero_cols = dataframe.columns[(dataframe == 0).sum() > percent_drop_zeros*dataframe.shape[1]]\n",
    "        dataframe.drop(drop_zero_cols, axis = 1, inplace = True)\n",
    "    elif del_zeros_all: #delete columns with ALL zeros\n",
    "        dataframe = dataframe.loc[:, (dataframe != 0).any(axis=0)] \n",
    "        \n",
    "    if interpolate: #linear interpolation for NaN values\n",
    "        dataframe.interpolate(method='linear', axis=0, limit_direction = 'both', inplace = True)\n",
    "    \n",
    "    if prnt:\n",
    "        start_time, end_time = dataframe.index[0], dataframe.index[-1]\n",
    "        nan_indexes = dataframe.loc[pd.isnull(dataframe).any(1), :].index #not printing but maybe useful\n",
    "        number_missing = len(nan_indexes) \n",
    "        df_size = (dataframe.shape[0]-1)*(dataframe.shape[1]-1) #number of values\n",
    "        percent = round(number_missing/df_size *100,3) #% with 3 decimals\n",
    "        print('Dataframe with consumption from {} load, ({} to {}).'.format(dataframe.shape[1],start_time,end_time))\n",
    "        print('Out of {} values, {} is missing ({} %).'.format(df_size,number_missing, percent))\n",
    "    \n",
    "    return dataframe"
   ]
  },
  {
   "cell_type": "code",
   "execution_count": 3,
   "metadata": {},
   "outputs": [],
   "source": [
    "# A function for dropping a percentage, which is by default 50%,\n",
    "# of all columns by random. The renumber parameter renames the \n",
    "# columns 1...n if set to True. \n",
    "\n",
    "def drop_random_columns(dataframe, drop_percent = 0.5, renumber = False):\n",
    "    number_to_drop = int(dataframe.shape[1]*drop_percent)\n",
    "    columns_to_drop = random.sample(range(0, dataframe.shape[1]), number_to_drop)\n",
    "    dataframe.drop(dataframe.columns[columns_to_drop],axis=1,inplace=True)\n",
    "    \n",
    "    if renumber:\n",
    "        dataframe.columns = np.arange(1,len(dataframe.columns)+1)\n",
    "    return dataframe"
   ]
  },
  {
   "cell_type": "markdown",
   "metadata": {},
   "source": [
    "### Working with load curves"
   ]
  },
  {
   "cell_type": "code",
   "execution_count": 4,
   "metadata": {},
   "outputs": [],
   "source": [
    "# Function which takes a dataframe where\n",
    "# each column represents a load and rows = date/time\n",
    "# returns same dataframe but with a aggregated column.\n",
    "\n",
    "def add_aggregated_col(dataframe):\n",
    "    dataframe.sort_index(inplace=True) # making sure df is sorted\n",
    "    dataframe['AggregatedLoad'] = dataframe.sum(numeric_only=True, axis=1) # add new sum col\n",
    "    return dataframe"
   ]
  },
  {
   "cell_type": "code",
   "execution_count": 5,
   "metadata": {},
   "outputs": [],
   "source": [
    "# Takes a dataframe and returns a sorted list\n",
    "# of the 'AggregtedLoad' column, which should be defined. \n",
    "\n",
    "def from_df_to_sorted_lst(dataframe):\n",
    "    sorted_load_list = dataframe['AggregatedLoad'].sort_values().tolist()\n",
    "    return sorted_load_list"
   ]
  },
  {
   "cell_type": "code",
   "execution_count": 6,
   "metadata": {},
   "outputs": [],
   "source": [
    "# Function that takes a sorted list of load demand \n",
    "# values and produces a plot of the load duration curve.\n",
    "\n",
    "def plot_load_duration_curve(sorted_demand_list):\n",
    "    list_len = len(sorted_demand_list) #Number of datapoints\n",
    "    x = np.linspace(1,list_len,list_len).tolist() #List of hours\n",
    "    \n",
    "    plt.plot(x,sorted_demand_list)\n",
    "    plt.title('Load Duration curve')\n",
    "    plt.xlabel('Hours')\n",
    "    plt.ylabel('Consumption [kWh]') #Review if kwh or not later on\n",
    "    plt.show()"
   ]
  },
  {
   "cell_type": "code",
   "execution_count": 7,
   "metadata": {},
   "outputs": [],
   "source": [
    "# Function which takes dataframe and calculates mean and standard deviation. \n",
    "# Plotting and printing is by default False. \n",
    "\n",
    "def calculate_norm_stats(dataframe, plot = False, prnt = False):\n",
    "    start_date, end_date = dataframe.index[0].to_pydatetime().date(), dataframe.index[-1].to_pydatetime().date()\n",
    "    agg_load_list = dataframe['AggregatedLoad'].tolist()\n",
    "    mu, sigma = scipy.stats.norm.fit(agg_load_list)\n",
    "    \n",
    "    if plot: \n",
    "        x = np.linspace(mu - 3*sigma, mu + 3*sigma, 100)\n",
    "        plt.plot(x, scipy.stats.norm.pdf(x, mu, sigma))\n",
    "        plt.title('Gaussian distribution of hourly aggregated loads')\n",
    "        plt.show()\n",
    "        \n",
    "    if prnt:\n",
    "        print('Mean consumption from {} to {} is {} (-/+ {}).'.format(start_date,end_date,mu,sigma)) #add unit here\n",
    "    \n",
    "    return mu, sigma"
   ]
  },
  {
   "cell_type": "code",
   "execution_count": 8,
   "metadata": {},
   "outputs": [],
   "source": [
    "# Function which returns the input dataframe but\n",
    "# with 'Year', 'Month' and 'Weekday' columns added\n",
    "\n",
    "def create_date_cols(dataframe):\n",
    "    dataframe['Year'] = dataframe.index.year\n",
    "    dataframe['Month'] = dataframe.index.month\n",
    "    dataframe['Weekday'] =  dataframe.index.weekday_name\n",
    "    return dataframe"
   ]
  },
  {
   "cell_type": "code",
   "execution_count": 9,
   "metadata": {},
   "outputs": [],
   "source": [
    "# A function to copy a load profile with stochastic deviation\n",
    "# from the original. The values varies according to a gaussian \n",
    "# distribution, with default and mu = 0, sigma = 0.1. The\n",
    "# funtion returns a copy of the dataframe with the new column. \n",
    "\n",
    "def copy_load_stochastic(dataframe, column_name, sigma=0.1):\n",
    "    \n",
    "    min_prob, max_prob = -sigma, sigma\n",
    "    prob_array = (max_prob - min_prob) * np.random.random_sample(size=dataframe.shape[0]) + min_prob\n",
    "    new_col_name = column_name + '_stoch_copy'\n",
    "    dataframe[new_col_name] = dataframe[column_name] + dataframe[column_name].mul(prob_array)\n",
    "    \n",
    "    return dataframe"
   ]
  },
  {
   "cell_type": "code",
   "execution_count": 10,
   "metadata": {},
   "outputs": [],
   "source": [
    "# Function cutting dataframe to whole years.\n",
    "# By default jan-dec but can be changed to whole\n",
    "# years from first date index. \n",
    "\n",
    "def filter_whole_years(dataframe, jan_start = False):\n",
    "    first_date, last_date = dataframe.index[0], dataframe.index[-1]\n",
    "    \n",
    "    if jan_start:\n",
    "        start_date, end_date = str(first_date.year+1) +'-01-01', str(last_date.year-1) +'-12-31'\n",
    "    else:\n",
    "        max_years = math.floor((last_date - first_date) / datetime.timedelta(days=365))\n",
    "        start_date = str(first_date).split(' ',1)[0]\n",
    "        end_date = str(first_date + datetime.timedelta(days = (365 * max_years))).split(' ',1)[0]\n",
    "    \n",
    "    return dataframe[start_date:end_date]\n",
    "    "
   ]
  },
  {
   "cell_type": "code",
   "execution_count": 11,
   "metadata": {},
   "outputs": [],
   "source": [
    "# Subfunction for creating a substation. \n",
    "# Triggering just input based on a predefined \n",
    "# list of load types.\n",
    "\n",
    "def input_allocation_dict(load_type_list):\n",
    "    allocation_dict = dict()\n",
    "    for load in load_type_list:\n",
    "        allocation_dict[load] = int(input('Number of '+ load + ': '))\n",
    "    return allocation_dict"
   ]
  },
  {
   "cell_type": "code",
   "execution_count": 12,
   "metadata": {},
   "outputs": [],
   "source": [
    "# Returns an updated dataframe object with\n",
    "# a new profile added according to the input parameters. \n",
    "\n",
    "def read_LP(dataframe,load_type, num, path_dict):\n",
    "    \n",
    "    num_list = [i for i in range(0,num +1)]         \n",
    "    path = path_dict[load_type]\n",
    "    \n",
    "    if path != None:\n",
    "        LP_cols = pd.read_csv(path, index_col = 0, \n",
    "                              parse_dates = True, \n",
    "                              usecols = num_list) # Fix for out of range. Use stochastic copy?\n",
    "        LP_cols.columns = [load_type + str(i) for i in np.arange(1,len(LP_cols.columns)+1)]\n",
    "        \n",
    "        if dataframe.empty:\n",
    "            dataframe = LP_cols\n",
    "        else:  #Inner join for date compatability. Needs fixing if changing index structure!!\n",
    "            dataframe = dataframe.merge(LP_cols, how = 'inner', left_index=True, right_index=True)          \n",
    "    \n",
    "    return dataframe"
   ]
  },
  {
   "cell_type": "code",
   "execution_count": 13,
   "metadata": {},
   "outputs": [],
   "source": [
    "# Function for creating a substation with different load profiles. \n",
    "# Currently a dummy version of user input within the function. \n",
    "# Need improvement on load types and their csv-paths etc. \n",
    "\n",
    "csv_path_dict = {'house_new':'../data/new_houses.csv', \n",
    "                  'house_old':'../data/old_houses.csv', \n",
    "                  'house_mix_DH': '../data/mixed_ages_houses_district_heating.csv', \n",
    "                  'appart_DH': '../data/new_appartments_district_heating.csv'\n",
    "                 }\n",
    "\n",
    "def create_substation():\n",
    "    \n",
    "    allocation_dict = input_allocation_dict(csv_path_dict.keys()) # Trigger input\n",
    "    LP_dataframe = pd.DataFrame()\n",
    "    \n",
    "    for key, value in allocation_dict.items(): # Performance here? Map was tricky\n",
    "        LP_dataframe = read_LP(LP_dataframe, key, value, csv_path_dict)\n",
    "\n",
    "    return LP_dataframe"
   ]
  },
  {
   "cell_type": "code",
   "execution_count": 14,
   "metadata": {},
   "outputs": [],
   "source": [
    "# Function for generating and printing different kinds of\n",
    "# information about the dataframe and load profiles. \n",
    "\n",
    "def print_insights(dataframe, \n",
    "                   duration_curve = True,\n",
    "                   numerical_info = True,\n",
    "                   month_plot = True, \n",
    "                   weekday_plot = True, \n",
    "                   point_name = 'substation'):\n",
    "    \n",
    "    if numerical_info:\n",
    "        if 'AggregatedLoad' not in dataframe.columns:\n",
    "            dataframe = add_aggregated_col(dataframe)\n",
    "            \n",
    "        start_date, end_date = dataframe.index[0].to_pydatetime().date(), dataframe.index[-1].to_pydatetime().date()\n",
    "        loads , hours = dataframe.shape[1]-1 , dataframe.shape[0]-1 #Load is not correct. FIX!!\n",
    "        mu, sigma = calculate_norm_stats(dataframe)\n",
    "        \n",
    "        print('Data from {} to {}.'.format(start_date,end_date))\n",
    "        print('The {} aggregates {} loads over {} hours of data.'.format(point_name,loads,hours)) # Fix text :/\n",
    "        print('The average hourly comsumption of the {} is {} (-/+ {}) kWh.'.format(point_name,round(mu,4),round(sigma,4)))\n",
    "    \n",
    "    if duration_curve:\n",
    "        if 'AggregatedLoad' not in dataframe.columns:\n",
    "            dataframe = add_aggregated_col(dataframe)\n",
    "            \n",
    "        dataframe_lst = from_df_to_sorted_lst(dataframe)\n",
    "        plot_load_duration_curve(dataframe_lst)\n",
    "    \n",
    "    if month_plot:\n",
    "        if 'Month' not in dataframe.columns:\n",
    "            dataframe = create_date_cols(dataframe)\n",
    "        \n",
    "        %matplotlib inline\n",
    "        ax = sns.boxplot(data=dataframe, x='Month', y='AggregatedLoad')\n",
    "        ax.set_ylabel('kWh')\n",
    "        ax.set_title('Hourly comsumption of the {}'.format(point_name))\n",
    "        \n",
    "    if weekday_plot:\n",
    "        if 'Weekday' not in dataframe.columns:\n",
    "            dataframe = create_date_cols(dataframe)\n",
    "        \n",
    "        %matplotlib inline\n",
    "        order = [\"Monday\", \"Tuesday\", \"Wednesday\", \"Thursday\", \"Friday\", \"Saturday\", \"Sunday\"]\n",
    "        ax1 = sns.boxplot(data=dataframe, x='Weekday', y='AggregatedLoad', order=order)\n",
    "        ax1.set_ylabel('kWh')\n",
    "        ax1.set_title('Hourly comsumption of the {}'.format(point_name))\n",
    "        \n",
    "    \n",
    "    return"
   ]
  },
  {
   "cell_type": "markdown",
   "metadata": {},
   "source": [
    "## Testing "
   ]
  },
  {
   "cell_type": "markdown",
   "metadata": {},
   "source": [
    "### Using the data from Claes"
   ]
  },
  {
   "cell_type": "code",
   "execution_count": 120,
   "metadata": {},
   "outputs": [
    {
     "data": {
      "image/png": "[encoded data removed]",
      "text/plain": [
       "<Figure size 432x288 with 1 Axes>"
      ]
     },
     "metadata": {
      "needs_background": "light"
     },
     "output_type": "display_data"
    },
    {
     "name": "stdout",
     "output_type": "stream",
     "text": [
      "Mean consumption from 2018-04-24 to 2019-04-24 is 16.32116290983607 (-/+ 9.37528340154718).\n"
     ]
    },
    {
     "data": {
      "text/html": [
       "<div>\n",
       "<style scoped>\n",
       "    .dataframe tbody tr th:only-of-type {\n",
       "        vertical-align: middle;\n",
       "    }\n",
       "\n",
       "    .dataframe tbody tr th {\n",
       "        vertical-align: top;\n",
       "    }\n",
       "\n",
       "    .dataframe thead th {\n",
       "        text-align: right;\n",
       "    }\n",
       "</style>\n",
       "<table border=\"1\" class=\"dataframe\">\n",
       "  <thead>\n",
       "    <tr style=\"text-align: right;\">\n",
       "      <th></th>\n",
       "      <th>V2</th>\n",
       "      <th>V3</th>\n",
       "      <th>V4</th>\n",
       "      <th>V5</th>\n",
       "      <th>V6</th>\n",
       "      <th>V7</th>\n",
       "      <th>V8</th>\n",
       "      <th>V9</th>\n",
       "      <th>V10</th>\n",
       "      <th>AggregatedLoad</th>\n",
       "    </tr>\n",
       "    <tr>\n",
       "      <th>TimeDate</th>\n",
       "      <th></th>\n",
       "      <th></th>\n",
       "      <th></th>\n",
       "      <th></th>\n",
       "      <th></th>\n",
       "      <th></th>\n",
       "      <th></th>\n",
       "      <th></th>\n",
       "      <th></th>\n",
       "      <th></th>\n",
       "    </tr>\n",
       "  </thead>\n",
       "  <tbody>\n",
       "    <tr>\n",
       "      <td>2018-04-24 00:00:00</td>\n",
       "      <td>2.7</td>\n",
       "      <td>0.0</td>\n",
       "      <td>2.72</td>\n",
       "      <td>2.6</td>\n",
       "      <td>1.4</td>\n",
       "      <td>1.2</td>\n",
       "      <td>1.1</td>\n",
       "      <td>1.3</td>\n",
       "      <td>1.6</td>\n",
       "      <td>14.62</td>\n",
       "    </tr>\n",
       "    <tr>\n",
       "      <td>2018-04-24 01:00:00</td>\n",
       "      <td>2.6</td>\n",
       "      <td>0.0</td>\n",
       "      <td>2.39</td>\n",
       "      <td>3.2</td>\n",
       "      <td>1.0</td>\n",
       "      <td>1.2</td>\n",
       "      <td>1.1</td>\n",
       "      <td>1.2</td>\n",
       "      <td>1.4</td>\n",
       "      <td>14.09</td>\n",
       "    </tr>\n",
       "    <tr>\n",
       "      <td>2018-04-24 02:00:00</td>\n",
       "      <td>2.8</td>\n",
       "      <td>0.0</td>\n",
       "      <td>1.79</td>\n",
       "      <td>3.0</td>\n",
       "      <td>1.3</td>\n",
       "      <td>1.1</td>\n",
       "      <td>1.1</td>\n",
       "      <td>1.4</td>\n",
       "      <td>1.3</td>\n",
       "      <td>13.79</td>\n",
       "    </tr>\n",
       "    <tr>\n",
       "      <td>2018-04-24 03:00:00</td>\n",
       "      <td>2.6</td>\n",
       "      <td>0.0</td>\n",
       "      <td>1.78</td>\n",
       "      <td>3.0</td>\n",
       "      <td>1.3</td>\n",
       "      <td>1.2</td>\n",
       "      <td>1.1</td>\n",
       "      <td>1.9</td>\n",
       "      <td>1.1</td>\n",
       "      <td>13.98</td>\n",
       "    </tr>\n",
       "    <tr>\n",
       "      <td>2018-04-24 04:00:00</td>\n",
       "      <td>2.6</td>\n",
       "      <td>0.0</td>\n",
       "      <td>2.07</td>\n",
       "      <td>3.3</td>\n",
       "      <td>0.8</td>\n",
       "      <td>1.2</td>\n",
       "      <td>1.1</td>\n",
       "      <td>1.2</td>\n",
       "      <td>1.1</td>\n",
       "      <td>13.37</td>\n",
       "    </tr>\n",
       "  </tbody>\n",
       "</table>\n",
       "</div>"
      ],
      "text/plain": [
       "                      V2   V3    V4   V5   V6   V7   V8   V9  V10  \\\n",
       "TimeDate                                                            \n",
       "2018-04-24 00:00:00  2.7  0.0  2.72  2.6  1.4  1.2  1.1  1.3  1.6   \n",
       "2018-04-24 01:00:00  2.6  0.0  2.39  3.2  1.0  1.2  1.1  1.2  1.4   \n",
       "2018-04-24 02:00:00  2.8  0.0  1.79  3.0  1.3  1.1  1.1  1.4  1.3   \n",
       "2018-04-24 03:00:00  2.6  0.0  1.78  3.0  1.3  1.2  1.1  1.9  1.1   \n",
       "2018-04-24 04:00:00  2.6  0.0  2.07  3.3  0.8  1.2  1.1  1.2  1.1   \n",
       "\n",
       "                     AggregatedLoad  \n",
       "TimeDate                             \n",
       "2018-04-24 00:00:00           14.62  \n",
       "2018-04-24 01:00:00           14.09  \n",
       "2018-04-24 02:00:00           13.79  \n",
       "2018-04-24 03:00:00           13.98  \n",
       "2018-04-24 04:00:00           13.37  "
      ]
     },
     "execution_count": 120,
     "metadata": {},
     "output_type": "execute_result"
    },
    {
     "data": {
      "image/png": "[encoded data removed]",
      "text/plain": [
       "<Figure size 432x288 with 1 Axes>"
      ]
     },
     "metadata": {
      "needs_background": "light"
     },
     "output_type": "display_data"
    }
   ],
   "source": [
    "claes_data = pd.read_csv('../data/claes_test.csv', index_col=0, parse_dates=True)\n",
    "claes_data.head()\n",
    "\n",
    "# Drop things which is not necessary for testing yet\n",
    "claes_data.drop(columns=['Temperature','aggLoad'], inplace=True)\n",
    "claes_data.head()\n",
    "\n",
    "# Running the functions defined above\n",
    "df = add_aggregated_col(claes_data)\n",
    "lst = from_df_to_sorted_lst(df)\n",
    "\n",
    "calculate_norm_stats(df, plot = True, prnt = True)\n",
    "\n",
    "plot_load_duration_curve(lst)\n",
    "claes_data.head()"
   ]
  },
  {
   "cell_type": "markdown",
   "metadata": {},
   "source": [
    "### Gudmund files"
   ]
  },
  {
   "cell_type": "code",
   "execution_count": 154,
   "metadata": {},
   "outputs": [
    {
     "name": "stdout",
     "output_type": "stream",
     "text": [
      "Number of house_new: 20\n",
      "Number of house_old: 20\n",
      "Number of house_mix_DH: 0\n",
      "Number of appart_DH: 0\n"
     ]
    }
   ],
   "source": [
    "substation = create_substation()\n"
   ]
  },
  {
   "cell_type": "code",
   "execution_count": 155,
   "metadata": {},
   "outputs": [
    {
     "name": "stdout",
     "output_type": "stream",
     "text": [
      "Number of house_new: 0\n",
      "Number of house_old: 0\n",
      "Number of house_mix_DH: 20\n",
      "Number of appart_DH: 20\n"
     ]
    }
   ],
   "source": [
    "substation_DH = create_substation()"
   ]
  },
  {
   "cell_type": "code",
   "execution_count": null,
   "metadata": {},
   "outputs": [],
   "source": []
  },
  {
   "cell_type": "code",
   "execution_count": 121,
   "metadata": {},
   "outputs": [],
   "source": [
    "claes_data = create_date_cols(claes_data)"
   ]
  },
  {
   "cell_type": "code",
   "execution_count": 162,
   "metadata": {},
   "outputs": [
    {
     "name": "stdout",
     "output_type": "stream",
     "text": [
      "Data from 2015-10-31 to 2019-05-04.\n",
      "The substation aggregates 40 loads over 30719 hours of data.\n",
      "The average hourly comsumption of the substation is 19.0239 (-/+ 7.5145) kWh.\n"
     ]
    },
    {
     "data": {
      "image/png": "[encoded data removed]",
      "text/plain": [
       "<Figure size 432x288 with 1 Axes>"
      ]
     },
     "metadata": {
      "needs_background": "light"
     },
     "output_type": "display_data"
    },
    {
     "data": {
      "image/png": "[encoded data removed]",
      "text/plain": [
       "<Figure size 432x288 with 1 Axes>"
      ]
     },
     "metadata": {
      "needs_background": "light"
     },
     "output_type": "display_data"
    }
   ],
   "source": [
    "print_insights(substation_DH)"
   ]
  },
  {
   "cell_type": "code",
   "execution_count": 164,
   "metadata": {},
   "outputs": [
    {
     "name": "stdout",
     "output_type": "stream",
     "text": [
      "Data from 2015-10-31 to 2019-05-04.\n",
      "The substation aggregates 43 loads over 30719 hours of data.\n",
      "The average hourly comsumption of the substation is 80.576 (-/+ 38.4797) kWh.\n"
     ]
    },
    {
     "data": {
      "image/png": "[encoded data removed]",
      "text/plain": [
       "<Figure size 432x288 with 1 Axes>"
      ]
     },
     "metadata": {
      "needs_background": "light"
     },
     "output_type": "display_data"
    },
    {
     "data": {
      "image/png": "[encoded data removed]",
      "text/plain": [
       "<Figure size 432x288 with 1 Axes>"
      ]
     },
     "metadata": {
      "needs_background": "light"
     },
     "output_type": "display_data"
    }
   ],
   "source": [
    "print_insights(substation)"
   ]
  },
  {
   "cell_type": "markdown",
   "metadata": {},
   "source": [
    "# Dev"
   ]
  },
  {
   "cell_type": "code",
   "execution_count": 15,
   "metadata": {},
   "outputs": [],
   "source": [
    "region_path_dict = {'Stockholm': '../data/stockholm_mintemp.csv'}"
   ]
  },
  {
   "cell_type": "code",
   "execution_count": 16,
   "metadata": {},
   "outputs": [],
   "source": [
    "# Function which takes a csv-path, number of values to return as\n",
    "# well as start and end dates of the interesting range of the csv. \n",
    "# The csv to which the path references should contain a date-index\n",
    "# and a 'Temperature' column. \n",
    "\n",
    "def find_coldest_days(data_path, num, start, end):\n",
    "    temp_data = pd.read_csv(data_path, index_col = 0, parse_dates = True)\n",
    "    \n",
    "    temp_data = temp_data[start:end]\n",
    "    num_years =  temp_data.index.year.nunique()\n",
    "    temp_data['Year'] = temp_data.index.year\n",
    "    list_of_dates = []\n",
    "    \n",
    "    for i in range(num_years):\n",
    "        year = start.year + i\n",
    "        year_data = temp_data.loc[temp_data['Year'] == year]\n",
    "        list_of_dates += year_data.nsmallest(num, columns='Temperature').index.sort_values().tolist()\n",
    "    \n",
    "    return list_of_dates"
   ]
  },
  {
   "cell_type": "code",
   "execution_count": 124,
   "metadata": {},
   "outputs": [],
   "source": [
    "# Dummy first version of introducing flexibility to load\n",
    "# curves. The function finds the n coldest day of the year\n",
    "# and assumes a percentage of loads (default 50%) can be\n",
    "# flexible. Flexible is interpreted as reducing comsumption\n",
    "# with a certain percentage (default 0.67). The consumption\n",
    "# can either be just reduced (default) or also redistributed. \n",
    "\n",
    "def introduce_flexibility(dataframe,\n",
    "                          region,\n",
    "                          days = 17, \n",
    "                          percent_loads = 0.5, \n",
    "                          reduction = 0.65, \n",
    "                          move_consumption = False):\n",
    "    \n",
    "    start_date, end_date = dataframe.index[0], dataframe.index[-1]\n",
    "    \n",
    "    days_to_reduce = find_coldest_days(region_path_dict[region], \n",
    "                                       num = days, \n",
    "                                       start = start_date, \n",
    "                                       end = end_date)\n",
    "    \n",
    "    dataframe = reduce_loads(dataframe, \n",
    "                             percent_loads, \n",
    "                             reduction, \n",
    "                             days_to_reduce)\n",
    "    \n",
    "    if move_consumption:\n",
    "        print('Please implement this feature')\n",
    "        \n",
    "    return dataframe\n",
    "    "
   ]
  },
  {
   "cell_type": "code",
   "execution_count": 125,
   "metadata": {},
   "outputs": [],
   "source": [
    "def new_calculation(flexibility = True, region = 'Stockholm'):\n",
    "    \n",
    "    substation = create_substation()\n",
    "    \n",
    "    if flexibility:\n",
    "        substation = introduce_flexibility(substation, region)\n",
    "        \n",
    "    return substation"
   ]
  },
  {
   "cell_type": "code",
   "execution_count": 55,
   "metadata": {},
   "outputs": [],
   "source": [
    "subframe = dataframe.loc[:,~dataframe.columns.str.contains('DH')] \n",
    "subframe = drop_random_columns(subframe, drop_percent = 0.5)\n",
    "subframe = subframe[subframe.index.hour.isin(['17','18','19'])]\n",
    "subframe[subframe.columns] *= (1-0.65)"
   ]
  },
  {
   "cell_type": "code",
   "execution_count": 121,
   "metadata": {},
   "outputs": [],
   "source": [
    "def reduce_loads(dataframe, percent_loads, reduction, date_list, no_DH = True):\n",
    "    \n",
    "    if no_DH: # Only reduce electrical heating\n",
    "        subframe = dataframe.loc[:,~dataframe.columns.str.contains('DH')] \n",
    "        subframe = drop_random_columns(subframe, drop_percent = percent_loads)\n",
    "        subframe = subframe[subframe.index.hour.isin(['17','18','19'])]\n",
    "        bool_list = [(x.to_pydatetime().date() in date_list) for x in subframe.index]\n",
    "        subframe.loc[subframe.index[bool_list], :]\n",
    "        subframe[subframe.columns] *= (1-reduction)\n",
    "    \n",
    "        dataframe.loc[dataframe.index.isin(subframe.index), subframe.columns] = subframe.loc[subframe.index.isin(dataframe.index),subframe.columns].values\n",
    "    return dataframe"
   ]
  },
  {
   "cell_type": "code",
   "execution_count": 57,
   "metadata": {},
   "outputs": [
    {
     "data": {
      "text/html": [
       "<div>\n",
       "<style scoped>\n",
       "    .dataframe tbody tr th:only-of-type {\n",
       "        vertical-align: middle;\n",
       "    }\n",
       "\n",
       "    .dataframe tbody tr th {\n",
       "        vertical-align: top;\n",
       "    }\n",
       "\n",
       "    .dataframe thead th {\n",
       "        text-align: right;\n",
       "    }\n",
       "</style>\n",
       "<table border=\"1\" class=\"dataframe\">\n",
       "  <thead>\n",
       "    <tr style=\"text-align: right;\">\n",
       "      <th></th>\n",
       "      <th>house_new1</th>\n",
       "      <th>house_new4</th>\n",
       "      <th>house_new5</th>\n",
       "      <th>house_new7</th>\n",
       "      <th>house_new8</th>\n",
       "      <th>house_new11</th>\n",
       "      <th>house_new12</th>\n",
       "      <th>house_new13</th>\n",
       "      <th>house_new15</th>\n",
       "      <th>house_new18</th>\n",
       "      <th>house_new20</th>\n",
       "      <th>house_old1</th>\n",
       "      <th>house_old4</th>\n",
       "      <th>house_old6</th>\n",
       "      <th>house_old7</th>\n",
       "      <th>house_old9</th>\n",
       "      <th>house_old11</th>\n",
       "      <th>house_old12</th>\n",
       "      <th>house_old13</th>\n",
       "      <th>house_old16</th>\n",
       "    </tr>\n",
       "    <tr>\n",
       "      <th>Date</th>\n",
       "      <th></th>\n",
       "      <th></th>\n",
       "      <th></th>\n",
       "      <th></th>\n",
       "      <th></th>\n",
       "      <th></th>\n",
       "      <th></th>\n",
       "      <th></th>\n",
       "      <th></th>\n",
       "      <th></th>\n",
       "      <th></th>\n",
       "      <th></th>\n",
       "      <th></th>\n",
       "      <th></th>\n",
       "      <th></th>\n",
       "      <th></th>\n",
       "      <th></th>\n",
       "      <th></th>\n",
       "      <th></th>\n",
       "      <th></th>\n",
       "    </tr>\n",
       "  </thead>\n",
       "  <tbody>\n",
       "    <tr>\n",
       "      <td>2015-10-31 17:00:00</td>\n",
       "      <td>1.02200</td>\n",
       "      <td>0.26040</td>\n",
       "      <td>0.43085</td>\n",
       "      <td>0.37660</td>\n",
       "      <td>1.49345</td>\n",
       "      <td>0.16905</td>\n",
       "      <td>0.92435</td>\n",
       "      <td>0.16975</td>\n",
       "      <td>0.09065</td>\n",
       "      <td>0.63245</td>\n",
       "      <td>1.29115</td>\n",
       "      <td>0.15540</td>\n",
       "      <td>0.80150</td>\n",
       "      <td>2.64215</td>\n",
       "      <td>0.70455</td>\n",
       "      <td>0.00000</td>\n",
       "      <td>1.22325</td>\n",
       "      <td>2.03175</td>\n",
       "      <td>0.72555</td>\n",
       "      <td>0.3647</td>\n",
       "    </tr>\n",
       "    <tr>\n",
       "      <td>2015-10-31 18:00:00</td>\n",
       "      <td>0.57645</td>\n",
       "      <td>0.23275</td>\n",
       "      <td>0.42560</td>\n",
       "      <td>0.21980</td>\n",
       "      <td>0.68390</td>\n",
       "      <td>0.20860</td>\n",
       "      <td>1.27715</td>\n",
       "      <td>0.15925</td>\n",
       "      <td>0.08715</td>\n",
       "      <td>0.54985</td>\n",
       "      <td>1.16235</td>\n",
       "      <td>0.14210</td>\n",
       "      <td>1.03705</td>\n",
       "      <td>1.35730</td>\n",
       "      <td>0.67655</td>\n",
       "      <td>0.00000</td>\n",
       "      <td>1.45950</td>\n",
       "      <td>1.94810</td>\n",
       "      <td>1.42275</td>\n",
       "      <td>0.2254</td>\n",
       "    </tr>\n",
       "    <tr>\n",
       "      <td>2015-10-31 19:00:00</td>\n",
       "      <td>0.54425</td>\n",
       "      <td>0.25480</td>\n",
       "      <td>0.41965</td>\n",
       "      <td>0.20195</td>\n",
       "      <td>0.59535</td>\n",
       "      <td>0.21945</td>\n",
       "      <td>1.29500</td>\n",
       "      <td>0.30835</td>\n",
       "      <td>0.09275</td>\n",
       "      <td>0.45675</td>\n",
       "      <td>1.48435</td>\n",
       "      <td>0.22995</td>\n",
       "      <td>0.94465</td>\n",
       "      <td>1.21730</td>\n",
       "      <td>0.67445</td>\n",
       "      <td>0.00000</td>\n",
       "      <td>1.42800</td>\n",
       "      <td>1.12595</td>\n",
       "      <td>1.14415</td>\n",
       "      <td>0.1820</td>\n",
       "    </tr>\n",
       "    <tr>\n",
       "      <td>2015-11-02 17:00:00</td>\n",
       "      <td>0.65345</td>\n",
       "      <td>0.73395</td>\n",
       "      <td>0.22085</td>\n",
       "      <td>0.08680</td>\n",
       "      <td>0.58240</td>\n",
       "      <td>0.40215</td>\n",
       "      <td>1.02550</td>\n",
       "      <td>0.21945</td>\n",
       "      <td>0.29400</td>\n",
       "      <td>0.86100</td>\n",
       "      <td>0.86275</td>\n",
       "      <td>0.40530</td>\n",
       "      <td>0.90615</td>\n",
       "      <td>1.35345</td>\n",
       "      <td>0.61740</td>\n",
       "      <td>0.64050</td>\n",
       "      <td>1.14730</td>\n",
       "      <td>2.93300</td>\n",
       "      <td>1.23585</td>\n",
       "      <td>0.1652</td>\n",
       "    </tr>\n",
       "    <tr>\n",
       "      <td>2015-11-02 18:00:00</td>\n",
       "      <td>0.70035</td>\n",
       "      <td>0.54600</td>\n",
       "      <td>0.23450</td>\n",
       "      <td>0.07630</td>\n",
       "      <td>1.01780</td>\n",
       "      <td>0.19425</td>\n",
       "      <td>0.72555</td>\n",
       "      <td>0.32795</td>\n",
       "      <td>0.30310</td>\n",
       "      <td>0.95130</td>\n",
       "      <td>1.12525</td>\n",
       "      <td>0.60340</td>\n",
       "      <td>0.34965</td>\n",
       "      <td>1.05945</td>\n",
       "      <td>0.71750</td>\n",
       "      <td>0.79275</td>\n",
       "      <td>1.56240</td>\n",
       "      <td>1.33280</td>\n",
       "      <td>0.80010</td>\n",
       "      <td>0.1876</td>\n",
       "    </tr>\n",
       "  </tbody>\n",
       "</table>\n",
       "</div>"
      ],
      "text/plain": [
       "                     house_new1  house_new4  house_new5  house_new7  \\\n",
       "Date                                                                  \n",
       "2015-10-31 17:00:00     1.02200     0.26040     0.43085     0.37660   \n",
       "2015-10-31 18:00:00     0.57645     0.23275     0.42560     0.21980   \n",
       "2015-10-31 19:00:00     0.54425     0.25480     0.41965     0.20195   \n",
       "2015-11-02 17:00:00     0.65345     0.73395     0.22085     0.08680   \n",
       "2015-11-02 18:00:00     0.70035     0.54600     0.23450     0.07630   \n",
       "\n",
       "                     house_new8  house_new11  house_new12  house_new13  \\\n",
       "Date                                                                     \n",
       "2015-10-31 17:00:00     1.49345      0.16905      0.92435      0.16975   \n",
       "2015-10-31 18:00:00     0.68390      0.20860      1.27715      0.15925   \n",
       "2015-10-31 19:00:00     0.59535      0.21945      1.29500      0.30835   \n",
       "2015-11-02 17:00:00     0.58240      0.40215      1.02550      0.21945   \n",
       "2015-11-02 18:00:00     1.01780      0.19425      0.72555      0.32795   \n",
       "\n",
       "                     house_new15  house_new18  house_new20  house_old1  \\\n",
       "Date                                                                     \n",
       "2015-10-31 17:00:00      0.09065      0.63245      1.29115     0.15540   \n",
       "2015-10-31 18:00:00      0.08715      0.54985      1.16235     0.14210   \n",
       "2015-10-31 19:00:00      0.09275      0.45675      1.48435     0.22995   \n",
       "2015-11-02 17:00:00      0.29400      0.86100      0.86275     0.40530   \n",
       "2015-11-02 18:00:00      0.30310      0.95130      1.12525     0.60340   \n",
       "\n",
       "                     house_old4  house_old6  house_old7  house_old9  \\\n",
       "Date                                                                  \n",
       "2015-10-31 17:00:00     0.80150     2.64215     0.70455     0.00000   \n",
       "2015-10-31 18:00:00     1.03705     1.35730     0.67655     0.00000   \n",
       "2015-10-31 19:00:00     0.94465     1.21730     0.67445     0.00000   \n",
       "2015-11-02 17:00:00     0.90615     1.35345     0.61740     0.64050   \n",
       "2015-11-02 18:00:00     0.34965     1.05945     0.71750     0.79275   \n",
       "\n",
       "                     house_old11  house_old12  house_old13  house_old16  \n",
       "Date                                                                     \n",
       "2015-10-31 17:00:00      1.22325      2.03175      0.72555       0.3647  \n",
       "2015-10-31 18:00:00      1.45950      1.94810      1.42275       0.2254  \n",
       "2015-10-31 19:00:00      1.42800      1.12595      1.14415       0.1820  \n",
       "2015-11-02 17:00:00      1.14730      2.93300      1.23585       0.1652  \n",
       "2015-11-02 18:00:00      1.56240      1.33280      0.80010       0.1876  "
      ]
     },
     "execution_count": 57,
     "metadata": {},
     "output_type": "execute_result"
    }
   ],
   "source": [
    "subframe.head()"
   ]
  },
  {
   "cell_type": "code",
   "execution_count": 126,
   "metadata": {},
   "outputs": [
    {
     "name": "stdout",
     "output_type": "stream",
     "text": [
      "Number of house_new: 20\n",
      "Number of house_old: 20\n",
      "Number of house_mix_DH: 0\n",
      "Number of appart_DH: 0\n"
     ]
    }
   ],
   "source": [
    "dataframe = new_calculation()"
   ]
  },
  {
   "cell_type": "code",
   "execution_count": 127,
   "metadata": {},
   "outputs": [
    {
     "name": "stdout",
     "output_type": "stream",
     "text": [
      "Data from 2015-10-31 to 2019-05-04.\n",
      "The substation aggregates 40 loads over 30719 hours of data.\n",
      "The average hourly comsumption of the substation is 76.3219 (-/+ 37.3467) kWh.\n"
     ]
    },
    {
     "data": {
      "image/png": "[encoded data removed]",
      "text/plain": [
       "<Figure size 432x288 with 1 Axes>"
      ]
     },
     "metadata": {
      "needs_background": "light"
     },
     "output_type": "display_data"
    },
    {
     "data": {
      "image/png": "[encoded data removed]",
      "text/plain": [
       "<Figure size 432x288 with 1 Axes>"
      ]
     },
     "metadata": {
      "needs_background": "light"
     },
     "output_type": "display_data"
    }
   ],
   "source": [
    "print_insights(dataframe)"
   ]
  },
  {
   "cell_type": "code",
   "execution_count": null,
   "metadata": {
    "scrolled": true
   },
   "outputs": [],
   "source": []
  },
  {
   "cell_type": "code",
   "execution_count": null,
   "metadata": {},
   "outputs": [],
   "source": []
  },
  {
   "cell_type": "code",
   "execution_count": null,
   "metadata": {},
   "outputs": [],
   "source": []
  },
  {
   "cell_type": "code",
   "execution_count": null,
   "metadata": {},
   "outputs": [],
   "source": []
  },
  {
   "cell_type": "code",
   "execution_count": null,
   "metadata": {},
   "outputs": [],
   "source": []
  }
 ],
 "metadata": {
  "kernel_info": {
   "name": "python3"
  },
  "kernelspec": {
   "display_name": "Python 3",
   "language": "python",
   "name": "python3"
  },
  "language_info": {
   "codemirror_mode": {
    "name": "ipython",
    "version": 3
   },
   "file_extension": ".py",
   "mimetype": "text/x-python",
   "name": "python",
   "nbconvert_exporter": "python",
   "pygments_lexer": "ipython3",
   "version": "3.7.4"
  },
  "nteract": {
   "version": "nteract-front-end@1.0.0"
  }
 },
 "nbformat": 4,
 "nbformat_minor": 2
}
