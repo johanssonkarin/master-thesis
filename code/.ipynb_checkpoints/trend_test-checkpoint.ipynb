{
 "cells": [
  {
   "cell_type": "markdown",
   "metadata": {},
   "source": [
    "# Trends: Test and Outputs"
   ]
  },
  {
   "cell_type": "code",
   "execution_count": 1,
   "metadata": {},
   "outputs": [],
   "source": [
    "# Import packages\n",
    "from matplotlib import pyplot as plt\n",
    "from importlib import reload\n",
    "import seaborn as sns\n",
    "import pandas as pd\n",
    "import numpy as np\n",
    "import datetime\n",
    "import random\n",
    "import scipy\n",
    "import math\n",
    "\n",
    "# Import model classes\n",
    "from substation import Substation\n",
    "from PV import PV"
   ]
  },
  {
   "cell_type": "markdown",
   "metadata": {},
   "source": [
    "## Model Settings"
   ]
  },
  {
   "cell_type": "code",
   "execution_count": 2,
   "metadata": {},
   "outputs": [],
   "source": [
    "resload_dict = {'HouseNew': 10,\n",
    "                'HouseOld' : 10, \n",
    "                'HouseDH': 0, \n",
    "                'ApartmentNewDH': 0\n",
    "               }\n"
   ]
  },
  {
   "cell_type": "markdown",
   "metadata": {},
   "source": [
    "# Energy Efficiency"
   ]
  },
  {
   "cell_type": "code",
   "execution_count": null,
   "metadata": {
    "scrolled": true
   },
   "outputs": [],
   "source": [
    "def test_efficiency():\n",
    "    efficiency_percent = 0.3 # Reduce values with 30%\n",
    "    num_loads = 20\n",
    "    station = Substation('Stockholm')\n",
    "    \n",
    "    # Add loads to substation\n",
    "    for load,num in resload_dict.items():\n",
    "        station.add_residential_load(load,num)\n",
    "    \n",
    "    # Reduce data to 1 year (jan-dec)\n",
    "    station.update_aggregated_col()\n",
    "    station.filter_whole_years(jan_start = True, num = 1)\n",
    "    \n",
    "    # Calculate max and load curve before trend\n",
    "    max_before = station.dataframe['AggregatedLoad'].max()\n",
    "    before = station.dataframe['AggregatedLoad'].sort_values(ascending=False).tolist()\n",
    "    \n",
    "    # Introduce efficiency trend\n",
    "    station.introduce_efficiency(percent = efficiency_percent, num = num_loads)\n",
    "    \n",
    "    # Calculate max and load curve after trend\n",
    "    station.update_aggregated_col()\n",
    "    max_after = station.dataframe['AggregatedLoad'].max()\n",
    "    after = station.dataframe['AggregatedLoad'].sort_values(ascending=False).tolist()\n",
    "    \n",
    "    # Plot load duration curves of before and after\n",
    "    t = np.linspace(0, len(before)+1,len(before))\n",
    "    plt.plot(t, before, label='Substation without EE') # plotting t, a separately \n",
    "    plt.plot(t, after, label='Substation with EE') # plotting t, b separately\n",
    "    plt.title('Substation Load Duration Curve')\n",
    "    plt.legend(loc='upper right')\n",
    "    plt.xlabel('Hours')\n",
    "    plt.ylabel('Consumption [kWh]')\n",
    "    plt.show()\n",
    "    \n",
    "    # Print\n",
    "    print('The maximal instant consumption of the substation with {} loads is {} without any energy efficiency and {} with a {}% reduction.'.format(station.ID_count,max_before,max_after, int(efficiency_percent*100)))\n",
    "    print('Through {}% energy efficency of {} loads, out of {}, the peak consumption is reduced by {}%'.format(int(efficiency_percent*100),num_loads, station.ID_count, round((1-(max_after/max_before))*100,2)))\n",
    "%matplotlib notebook    \n",
    "test_efficiency()"
   ]
  },
  {
   "cell_type": "markdown",
   "metadata": {},
   "source": [
    "# PV"
   ]
  },
  {
   "cell_type": "code",
   "execution_count": null,
   "metadata": {},
   "outputs": [],
   "source": [
    "def test_pv():\n",
    "    station = Substation('Stockholm')\n",
    "    \n",
    "    # Add loads to substation\n",
    "    for load,num in resload_dict.items():\n",
    "        station.add_residential_load(load,num)\n",
    "    \n",
    "    # Calculate 1 year consumption with and without PV\n",
    "    station.update_aggregated_col()\n",
    "    station.filter_whole_years(jan_start = True, num = 1)\n",
    "    station.add_PV(size = 400)\n",
    "    before = station.dataframe['AggregatedLoad'].sort_values(ascending=False).tolist()\n",
    "    station.update_aggregated_col()\n",
    "    after = station.dataframe['AggregatedLoad'].sort_values(ascending=False).tolist()\n",
    "    \n",
    "    # Plot load duration curves of before and after\n",
    "    t = np.linspace(0, len(before)+1,len(before))\n",
    "    plt.plot(t, before, label='Substation without PV') # plotting t, a separately \n",
    "    plt.plot(t, after, label='Substation with PV') # plotting t, b separately\n",
    "    plt.title('Substation Load Duration Curve')\n",
    "    plt.legend(loc='upper right')\n",
    "    plt.xlabel('Hours')\n",
    "    plt.ylabel('Consumption [kWh]')\n",
    "    plt.show()\n",
    "    \n",
    "    '''\n",
    "    station.print_insights(duration_curve = True,\n",
    "                           month_plot = False, \n",
    "                           weekday_plot = False, \n",
    "                           hour_plot = False)\n",
    "    '''\n",
    "%matplotlib notebook\n",
    "test_pv()"
   ]
  },
  {
   "cell_type": "markdown",
   "metadata": {},
   "source": [
    "# Office Load"
   ]
  },
  {
   "cell_type": "code",
   "execution_count": null,
   "metadata": {},
   "outputs": [],
   "source": [
    "def test_office():\n",
    "    station = Substation('Stockholm')\n",
    "    \n",
    "    #add loads\n",
    "    for load,num in resload_dict.items():\n",
    "        station.add_residential_load(load,num)\n",
    "    \n",
    "    '''station.print_insights(duration_curve = True,\n",
    "                        month_plot = False, \n",
    "                        weekday_plot = False, \n",
    "                        hour_plot = False)''' \n",
    "    station.filter_whole_years(num = 1, jan_start = True)\n",
    "    station.calculate_norm()\n",
    "    before = station.dataframe['AggregatedLoad'].sort_values(ascending=False).tolist()\n",
    "    \n",
    "    print('No Office')\n",
    "    print('Hourly average: ', station.mu)\n",
    "    print('Hourly max: ', station.dataframe['AggregatedLoad'].max())\n",
    "    \n",
    "    print('\\n')\n",
    "    station.add_office()\n",
    "    print('{} Office'.format(station.office_count))\n",
    "    '''station.print_insights(duration_curve = True,\n",
    "                        month_plot = False, \n",
    "                        weekday_plot = False, \n",
    "                        hour_plot = False)''' \n",
    "    station.calculate_norm()\n",
    "    \n",
    "    print('Hourly average: ', station.mu)\n",
    "    print('Hourly max: ', station.dataframe['AggregatedLoad'].max())\n",
    "    \n",
    "    after = station.dataframe['AggregatedLoad'].sort_values(ascending=False).tolist()\n",
    "    office = station.dataframe[station.ID_count].sort_values(ascending=False).tolist()\n",
    "\n",
    "    \n",
    "    # Plot load duration curves of before and after\n",
    "    t = np.linspace(0, len(before)+1,len(before))\n",
    "    plt.plot(t, before, label='Substation without office') \n",
    "    plt.plot(t, after, label='Substation with {} office'.format(station.office_count))\n",
    "    plt.plot(t, office, label='Only Office')\n",
    "    plt.title('Substation Load Duration Curve')\n",
    "    plt.legend(loc='upper right')\n",
    "    plt.xlabel('Hours')\n",
    "    plt.ylabel('Consumption [kWh]')\n",
    "    plt.show()\n",
    "    \n",
    "test_office()"
   ]
  },
  {
   "cell_type": "markdown",
   "metadata": {},
   "source": [
    "# Static Flex"
   ]
  },
  {
   "cell_type": "code",
   "execution_count": null,
   "metadata": {},
   "outputs": [],
   "source": [
    "def test_flex(days = 50, percent_loads = 0.50, reduction = 0.50):\n",
    "    # create empty station\n",
    "    station = Substation('Stockholm')\n",
    "    \n",
    "    #add loads\n",
    "    for load,num in resload_dict.items():\n",
    "        station.add_residential_load(load,num)\n",
    "\n",
    "    #find instant max \n",
    "    station.update_aggregated_col()\n",
    "    max_consumption = station.dataframe['AggregatedLoad'].max()\n",
    "    max_time_before = station.find_max()\n",
    "    before = station.dataframe['AggregatedLoad'].sort_values(ascending=False).tolist()\n",
    "    \n",
    "    \n",
    "    #load duration curve before\n",
    "    '''station.print_insights(duration_curve = True,\n",
    "                           month_plot = False, \n",
    "                           weekday_plot = False, \n",
    "                           hour_plot = False)'''\n",
    "    \n",
    "    #infer flexible loads\n",
    "    station.introduce_flexibility(days, percent_loads, reduction, only_noDH = False)\n",
    "    \n",
    "    #find instant max with flex\n",
    "    station.update_aggregated_col()\n",
    "    max_flex_consumption = station.dataframe['AggregatedLoad'].max()\n",
    "    \n",
    "    #load duration curve after\n",
    "    '''station.print_insights(duration_curve = True,\n",
    "                           month_plot = False, \n",
    "                           weekday_plot = False, \n",
    "                           hour_plot = False)'''\n",
    "    \n",
    "    after = station.dataframe['AggregatedLoad'].sort_values(ascending=False).tolist()\n",
    "    max_time_after = station.find_max()\n",
    "    %matplotlib notebook\n",
    "    # Plot load duration curves of before and after\n",
    "    t = np.linspace(0, len(before)+1,len(before))\n",
    "    # Plotting b before a for a more descriptive graph\n",
    "    plt.plot(t, before, label='Substation without flex') # plotting t, a separately \n",
    "    plt.plot(t, after, label='Substation with flex') # plotting t, b separately\n",
    "    plt.title('Substation Load Duration Curve')\n",
    "    plt.legend(loc='upper right')\n",
    "    plt.xlabel('Hours')\n",
    "    plt.ylabel('Consumption [kWh]')\n",
    "    plt.show()\n",
    "    \n",
    "    print('The maximal instant consumption of the substation with {} loads is {} without demand side flexibility and {} with {} flexible loads.'.format(station.load_count,max_consumption,max_flex_consumption,station.flex_count))\n",
    "    print('Before flex peak occured at {} and after peak occurs at {}.'.format(max_time_before,max_time_after))\n",
    "test_flex()"
   ]
  },
  {
   "cell_type": "markdown",
   "metadata": {},
   "source": [
    "# Office from datasets"
   ]
  },
  {
   "cell_type": "code",
   "execution_count": null,
   "metadata": {},
   "outputs": [],
   "source": [
    "from office import Office\n",
    "office = Office(ID = 1, region='Stockholm', size = 12402, start = '2019-01-01', end = '2020-01-01')\n",
    "office.dataframe.head()\n",
    "print(office.kwhref, office.kwhp)\n",
    "#office.be_random(sigma=0.7)"
   ]
  },
  {
   "cell_type": "code",
   "execution_count": null,
   "metadata": {},
   "outputs": [],
   "source": [
    "station = Substation('Stockholm')\n",
    "#add loads\n",
    "for load,num in resload_dict.items():\n",
    "    station.add_residential_load(load,num)"
   ]
  },
  {
   "cell_type": "code",
   "execution_count": null,
   "metadata": {},
   "outputs": [],
   "source": [
    "station.get_load_type(78)"
   ]
  },
  {
   "cell_type": "code",
   "execution_count": null,
   "metadata": {},
   "outputs": [],
   "source": []
  }
 ],
 "metadata": {
  "kernelspec": {
   "display_name": "Python 3",
   "language": "python",
   "name": "python3"
  },
  "language_info": {
   "codemirror_mode": {
    "name": "ipython",
    "version": 3
   },
   "file_extension": ".py",
   "mimetype": "text/x-python",
   "name": "python",
   "nbconvert_exporter": "python",
   "pygments_lexer": "ipython3",
   "version": "3.7.1"
  }
 },
 "nbformat": 4,
 "nbformat_minor": 2
}
