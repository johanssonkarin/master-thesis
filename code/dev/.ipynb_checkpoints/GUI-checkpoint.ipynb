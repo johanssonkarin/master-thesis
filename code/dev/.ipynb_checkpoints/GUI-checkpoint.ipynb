{
 "cells": [
  {
   "cell_type": "code",
   "execution_count": 1,
   "metadata": {},
   "outputs": [],
   "source": [
    "import ipywidgets as widgets\n",
    "from IPython.display import display\n",
    "import time"
   ]
  },
  {
   "cell_type": "code",
   "execution_count": 20,
   "metadata": {},
   "outputs": [],
   "source": [
    "btn = widgets.Button(\n",
    "        description='Run Simulation',\n",
    "        disabled=False,\n",
    "        button_style='success', # 'success', 'info', 'warning', 'danger' or ''\n",
    "        tooltip='Click me',\n",
    "        icon='' # (FontAwesome names without the `fa-` prefix)\n",
    "        )\n",
    "\n",
    "max_count = 500\n",
    "f = widgets.IntProgress(min=0, \n",
    "                        max=max_count\n",
    "                       ) # instantiate the bar\n",
    "\n",
    "box_layout = widgets.Layout(display='flex',\n",
    "                    flex_flow='column',\n",
    "                    align_items='center',\n",
    "                    border='none',\n",
    "                    width='100%', \n",
    "                    hight ='400px')\n",
    "\n",
    "def btn_eventhandler(obj):\n",
    "    display(f) # display the bar\n",
    "    count = 0\n",
    "    while count <= max_count:\n",
    "        f.value += 1 # signal to increment the progress bar\n",
    "        time.sleep(0.1)\n",
    "        count += 1\n",
    "\n",
    "    \n",
    "btn.on_click(btn_eventhandler)\n",
    "\n",
    "scenario_selection = widgets.Box(\n",
    "    [widgets.Label(value='Model scenario:'),\n",
    "     widgets.ToggleButtons(\n",
    "         options=['1', '2', '3', '4'],\n",
    "         description='',\n",
    "         disabled=False,\n",
    "         button_style='', # 'success', 'info', 'warning', 'danger' or ''\n",
    "         tooltips=['Description of scenario 1', 'Description of scenario 2', 'Description of scenario 3', 'Description of scenario 4'],\n",
    "         #icons=['check'] * 4\n",
    "         layout={'width': 'max-content'},), \n",
    "     btn,],\n",
    "    layout = box_layout\n",
    "    )\n",
    "\n",
    "create_scenario = widgets.Box()"
   ]
  },
  {
   "cell_type": "code",
   "execution_count": 21,
   "metadata": {},
   "outputs": [
    {
     "data": {
      "application/vnd.jupyter.widget-view+json": {
       "model_id": "5f1b589b3df54b9cb29bf759de3cafb3",
       "version_major": 2,
       "version_minor": 0
      },
      "text/plain": [
       "Tab(children=(Box(children=(Label(value='Model scenario:'), ToggleButtons(layout=Layout(width='max-content'), …"
      ]
     },
     "metadata": {},
     "output_type": "display_data"
    },
    {
     "data": {
      "application/vnd.jupyter.widget-view+json": {
       "model_id": "a18c999ecef9460bb81c8bc50d8a3d37",
       "version_major": 2,
       "version_minor": 0
      },
      "text/plain": [
       "IntProgress(value=0, max=500)"
      ]
     },
     "metadata": {},
     "output_type": "display_data"
    }
   ],
   "source": [
    "tab = widgets.Tab([scenario_selection,create_scenario])\n",
    "tab.set_title(0, 'Scenario 1-4')\n",
    "tab.set_title(1, 'Create your own')\n",
    "display(tab)"
   ]
  },
  {
   "cell_type": "code",
   "execution_count": null,
   "metadata": {},
   "outputs": [],
   "source": []
  },
  {
   "cell_type": "code",
   "execution_count": null,
   "metadata": {},
   "outputs": [],
   "source": []
  }
 ],
 "metadata": {
  "kernelspec": {
   "display_name": "Python 3",
   "language": "python",
   "name": "python3"
  },
  "language_info": {
   "codemirror_mode": {
    "name": "ipython",
    "version": 3
   },
   "file_extension": ".py",
   "mimetype": "text/x-python",
   "name": "python",
   "nbconvert_exporter": "python",
   "pygments_lexer": "ipython3",
   "version": "3.7.1"
  }
 },
 "nbformat": 4,
 "nbformat_minor": 4
}
