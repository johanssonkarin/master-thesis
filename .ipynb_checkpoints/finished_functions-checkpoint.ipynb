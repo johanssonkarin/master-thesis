{
 "cells": [
  {
   "cell_type": "markdown",
   "metadata": {},
   "source": [
    "# Electricity Consumption Model: Work in Progress"
   ]
  },
  {
   "cell_type": "markdown",
   "metadata": {},
   "source": [
    "## Defining Functions"
   ]
  },
  {
   "cell_type": "code",
   "execution_count": 17,
   "metadata": {},
   "outputs": [],
   "source": [
    "# Importing libraries \n",
    "from matplotlib import pyplot as plt\n",
    "import pandas as pd\n",
    "import numpy as np\n",
    "import datetime\n",
    "import warnings\n",
    "import os\n",
    "import scipy\n",
    "import seaborn as sns\n",
    "\n",
    "# Squash warning messages for cleaner output in the notebook\n",
    "warnings.showwarning = lambda *args, **kwargs: None"
   ]
  },
  {
   "cell_type": "code",
   "execution_count": 2,
   "metadata": {},
   "outputs": [],
   "source": [
    "# Function which takes a dataframe where\n",
    "# each column represents a load and rows = date/time\n",
    "# returns same dataframe but with a aggregated column.\n",
    "\n",
    "def add_aggregated_col(dataframe):\n",
    "    dataframe.sort_index(inplace=True) # making sure df is sorted\n",
    "    dataframe['AggregatedLoad'] = dataframe.sum(numeric_only=True, axis=1) # add new sum col\n",
    "    return dataframe"
   ]
  },
  {
   "cell_type": "code",
   "execution_count": 3,
   "metadata": {},
   "outputs": [],
   "source": [
    "# Takes a dataframe and returns a sorted list\n",
    "# of the 'AggregtedLoad' column, which should be defined. \n",
    "\n",
    "def from_df_to_sorted_lst(dataframe):\n",
    "    sorted_load_list = dataframe['AggregatedLoad'].sort_values().tolist()\n",
    "    return sorted_load_list"
   ]
  },
  {
   "cell_type": "code",
   "execution_count": 4,
   "metadata": {},
   "outputs": [],
   "source": [
    "# Function that takes a sorted list of load demand \n",
    "# values and produces a plot of the load duration curve.\n",
    "\n",
    "def plot_load_duration_curve(sorted_demand_list):\n",
    "    list_len = len(sorted_demand_list) #Number of datapoints\n",
    "    x = np.linspace(1,list_len,list_len).tolist() #List of hours\n",
    "    \n",
    "    plt.plot(x,sorted_demand_list)\n",
    "    plt.title('Load Duration curve')\n",
    "    plt.xlabel('Hours')\n",
    "    plt.ylabel('Consumption [kWh]') #Review if kwh or not later on"
   ]
  },
  {
   "cell_type": "code",
   "execution_count": 46,
   "metadata": {},
   "outputs": [],
   "source": [
    "# Function which takes dataframe and calculates mean and standard deviation. \n",
    "# Plotting and printing is by default False. \n",
    "\n",
    "def calculate_norm_stats(dataframe, plot = False, prnt = False):\n",
    "    start_date, end_date = dataframe.index[0].to_pydatetime().date(), dataframe.index[-1].to_pydatetime().date()\n",
    "    agg_load_list = dataframe['AggregatedLoad'].tolist()\n",
    "    mu, sigma = scipy.stats.norm.fit(agg_load_list)\n",
    "    \n",
    "    if plot: \n",
    "        x = np.linspace(mu - 3*sigma, mu + 3*sigma, 100)\n",
    "        plt.plot(x, scipy.stats.norm.pdf(x, mu, sigma))\n",
    "        plt.title('Gaussian distribution of hourly aggregated loads')\n",
    "        plt.show()\n",
    "        \n",
    "    if prnt:\n",
    "        print('Mean consumption from {} to {} is {} (-/+ {}).'.format(start_date,end_date,mu,sigma)) #add unit here\n",
    "    \n",
    "    return mu, sigma"
   ]
  },
  {
   "cell_type": "markdown",
   "metadata": {},
   "source": [
    "## Testing "
   ]
  },
  {
   "cell_type": "code",
   "execution_count": 47,
   "metadata": {},
   "outputs": [
    {
     "data": {
      "image/png": "[encoded data removed]",
      "text/plain": [
       "<Figure size 432x288 with 1 Axes>"
      ]
     },
     "metadata": {
      "needs_background": "light"
     },
     "output_type": "display_data"
    },
    {
     "name": "stdout",
     "output_type": "stream",
     "text": [
      "Mean consumption from 2018-04-24 to 2019-04-24 is 16.32116290983607 (-/+ 9.37528340154718).\n"
     ]
    },
    {
     "data": {
      "image/png": "[encoded data removed]",
      "text/plain": [
       "<Figure size 432x288 with 1 Axes>"
      ]
     },
     "metadata": {
      "needs_background": "light"
     },
     "output_type": "display_data"
    }
   ],
   "source": [
    "# Using the data from Claes. \n",
    "claes_data = pd.read_csv('claes_test.csv', index_col=0, parse_dates=True)\n",
    "claes_data.head()\n",
    "\n",
    "# Drop things which is not necessary for testing yet\n",
    "claes_data.drop(columns=['Temperature','aggLoad'], inplace=True)\n",
    "claes_data.head()\n",
    "\n",
    "# Running the functions defined above\n",
    "df = add_aggregated_col(claes_data)\n",
    "lst = from_df_to_sorted_lst(df)\n",
    "\n",
    "calculate_norm_stats(df, plot = True, prnt = True)\n",
    "\n",
    "plot_load_duration_curve(lst)"
   ]
  },
  {
   "cell_type": "code",
   "execution_count": 43,
   "metadata": {},
   "outputs": [
    {
     "data": {
      "text/html": [
       "<div>\n",
       "<style scoped>\n",
       "    .dataframe tbody tr th:only-of-type {\n",
       "        vertical-align: middle;\n",
       "    }\n",
       "\n",
       "    .dataframe tbody tr th {\n",
       "        vertical-align: top;\n",
       "    }\n",
       "\n",
       "    .dataframe thead th {\n",
       "        text-align: right;\n",
       "    }\n",
       "</style>\n",
       "<table border=\"1\" class=\"dataframe\">\n",
       "  <thead>\n",
       "    <tr style=\"text-align: right;\">\n",
       "      <th></th>\n",
       "      <th>V2</th>\n",
       "      <th>V3</th>\n",
       "      <th>V4</th>\n",
       "      <th>V5</th>\n",
       "      <th>V6</th>\n",
       "      <th>V7</th>\n",
       "      <th>V8</th>\n",
       "      <th>V9</th>\n",
       "      <th>V10</th>\n",
       "      <th>AggregatedLoad</th>\n",
       "    </tr>\n",
       "    <tr>\n",
       "      <th>TimeDate</th>\n",
       "      <th></th>\n",
       "      <th></th>\n",
       "      <th></th>\n",
       "      <th></th>\n",
       "      <th></th>\n",
       "      <th></th>\n",
       "      <th></th>\n",
       "      <th></th>\n",
       "      <th></th>\n",
       "      <th></th>\n",
       "    </tr>\n",
       "  </thead>\n",
       "  <tbody>\n",
       "    <tr>\n",
       "      <th>2018-04-24 00:00:00</th>\n",
       "      <td>2.7</td>\n",
       "      <td>0.0</td>\n",
       "      <td>2.72</td>\n",
       "      <td>2.6</td>\n",
       "      <td>1.4</td>\n",
       "      <td>1.2</td>\n",
       "      <td>1.1</td>\n",
       "      <td>1.3</td>\n",
       "      <td>1.6</td>\n",
       "      <td>14.62</td>\n",
       "    </tr>\n",
       "    <tr>\n",
       "      <th>2018-04-24 01:00:00</th>\n",
       "      <td>2.6</td>\n",
       "      <td>0.0</td>\n",
       "      <td>2.39</td>\n",
       "      <td>3.2</td>\n",
       "      <td>1.0</td>\n",
       "      <td>1.2</td>\n",
       "      <td>1.1</td>\n",
       "      <td>1.2</td>\n",
       "      <td>1.4</td>\n",
       "      <td>14.09</td>\n",
       "    </tr>\n",
       "    <tr>\n",
       "      <th>2018-04-24 02:00:00</th>\n",
       "      <td>2.8</td>\n",
       "      <td>0.0</td>\n",
       "      <td>1.79</td>\n",
       "      <td>3.0</td>\n",
       "      <td>1.3</td>\n",
       "      <td>1.1</td>\n",
       "      <td>1.1</td>\n",
       "      <td>1.4</td>\n",
       "      <td>1.3</td>\n",
       "      <td>13.79</td>\n",
       "    </tr>\n",
       "    <tr>\n",
       "      <th>2018-04-24 03:00:00</th>\n",
       "      <td>2.6</td>\n",
       "      <td>0.0</td>\n",
       "      <td>1.78</td>\n",
       "      <td>3.0</td>\n",
       "      <td>1.3</td>\n",
       "      <td>1.2</td>\n",
       "      <td>1.1</td>\n",
       "      <td>1.9</td>\n",
       "      <td>1.1</td>\n",
       "      <td>13.98</td>\n",
       "    </tr>\n",
       "    <tr>\n",
       "      <th>2018-04-24 04:00:00</th>\n",
       "      <td>2.6</td>\n",
       "      <td>0.0</td>\n",
       "      <td>2.07</td>\n",
       "      <td>3.3</td>\n",
       "      <td>0.8</td>\n",
       "      <td>1.2</td>\n",
       "      <td>1.1</td>\n",
       "      <td>1.2</td>\n",
       "      <td>1.1</td>\n",
       "      <td>13.37</td>\n",
       "    </tr>\n",
       "  </tbody>\n",
       "</table>\n",
       "</div>"
      ],
      "text/plain": [
       "                      V2   V3    V4   V5   V6   V7   V8   V9  V10  \\\n",
       "TimeDate                                                            \n",
       "2018-04-24 00:00:00  2.7  0.0  2.72  2.6  1.4  1.2  1.1  1.3  1.6   \n",
       "2018-04-24 01:00:00  2.6  0.0  2.39  3.2  1.0  1.2  1.1  1.2  1.4   \n",
       "2018-04-24 02:00:00  2.8  0.0  1.79  3.0  1.3  1.1  1.1  1.4  1.3   \n",
       "2018-04-24 03:00:00  2.6  0.0  1.78  3.0  1.3  1.2  1.1  1.9  1.1   \n",
       "2018-04-24 04:00:00  2.6  0.0  2.07  3.3  0.8  1.2  1.1  1.2  1.1   \n",
       "\n",
       "                     AggregatedLoad  \n",
       "TimeDate                             \n",
       "2018-04-24 00:00:00           14.62  \n",
       "2018-04-24 01:00:00           14.09  \n",
       "2018-04-24 02:00:00           13.79  \n",
       "2018-04-24 03:00:00           13.98  \n",
       "2018-04-24 04:00:00           13.37  "
      ]
     },
     "execution_count": 43,
     "metadata": {},
     "output_type": "execute_result"
    }
   ],
   "source": [
    "claes_data.head()"
   ]
  },
  {
   "cell_type": "code",
   "execution_count": null,
   "metadata": {},
   "outputs": [],
   "source": []
  }
 ],
 "metadata": {
  "kernel_info": {
   "name": "python3"
  },
  "kernelspec": {
   "display_name": "Python 3",
   "language": "python",
   "name": "python3"
  },
  "language_info": {
   "codemirror_mode": {
    "name": "ipython",
    "version": 3
   },
   "file_extension": ".py",
   "mimetype": "text/x-python",
   "name": "python",
   "nbconvert_exporter": "python",
   "pygments_lexer": "ipython3",
   "version": "3.7.4"
  },
  "nteract": {
   "version": "nteract-front-end@1.0.0"
  }
 },
 "nbformat": 4,
 "nbformat_minor": 2
}
