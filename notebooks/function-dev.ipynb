{
 "cells": [
  {
   "cell_type": "markdown",
   "metadata": {},
   "source": [
    "# Randomizing Load Curves"
   ]
  },
  {
   "cell_type": "code",
   "execution_count": 2,
   "metadata": {},
   "outputs": [],
   "source": [
    "from matplotlib import pyplot as plt\n",
    "import pandas as pd\n",
    "import numpy as np\n",
    "import datetime\n",
    "import scipy\n",
    "import seaborn as sns"
   ]
  },
  {
   "cell_type": "code",
   "execution_count": 2,
   "metadata": {},
   "outputs": [],
   "source": [
    "df = pd.read_csv('../data/claes_test.csv', index_col=0, parse_dates=True)\n",
    "df.drop(columns='V3', inplace=True)"
   ]
  },
  {
   "cell_type": "code",
   "execution_count": 3,
   "metadata": {},
   "outputs": [],
   "source": [
    "# A function to copy a load profile with stochastic deviation\n",
    "# from the original. The values varies according to a gaussian \n",
    "# distribution, with default and mu = 0, sigma = 0.1. The\n",
    "# funtion returns a copy of the dataframe with the new column. \n",
    "\n",
    "def copy_load_stochastic(dataframe, column_name, sigma=0.1):\n",
    "    \n",
    "    min_prob, max_prob = -sigma, sigma\n",
    "    prob_array = (max_prob - min_prob) * np.random.random_sample(size=dataframe.shape[0]) + min_prob\n",
    "    new_col_name = column_name + '_stoch_copy'\n",
    "    dataframe[new_col_name] = dataframe[column_name] + dataframe[column_name].mul(prob_array)\n",
    "    \n",
    "    return dataframe"
   ]
  },
  {
   "cell_type": "code",
   "execution_count": 4,
   "metadata": {},
   "outputs": [],
   "source": [
    "df_with_copy = copy_load_stochastic(df, 'V4',sigma=0.5)"
   ]
  },
  {
   "cell_type": "code",
   "execution_count": 5,
   "metadata": {
    "scrolled": false
   },
   "outputs": [
    {
     "data": {
      "text/html": [
       "<div>\n",
       "<style scoped>\n",
       "    .dataframe tbody tr th:only-of-type {\n",
       "        vertical-align: middle;\n",
       "    }\n",
       "\n",
       "    .dataframe tbody tr th {\n",
       "        vertical-align: top;\n",
       "    }\n",
       "\n",
       "    .dataframe thead th {\n",
       "        text-align: right;\n",
       "    }\n",
       "</style>\n",
       "<table border=\"1\" class=\"dataframe\">\n",
       "  <thead>\n",
       "    <tr style=\"text-align: right;\">\n",
       "      <th></th>\n",
       "      <th>Temperature</th>\n",
       "      <th>V2</th>\n",
       "      <th>V4</th>\n",
       "      <th>V5</th>\n",
       "      <th>V6</th>\n",
       "      <th>V7</th>\n",
       "      <th>V8</th>\n",
       "      <th>V9</th>\n",
       "      <th>V10</th>\n",
       "      <th>aggLoad</th>\n",
       "      <th>V4_stoch_copy</th>\n",
       "    </tr>\n",
       "    <tr>\n",
       "      <th>TimeDate</th>\n",
       "      <th></th>\n",
       "      <th></th>\n",
       "      <th></th>\n",
       "      <th></th>\n",
       "      <th></th>\n",
       "      <th></th>\n",
       "      <th></th>\n",
       "      <th></th>\n",
       "      <th></th>\n",
       "      <th></th>\n",
       "      <th></th>\n",
       "    </tr>\n",
       "  </thead>\n",
       "  <tbody>\n",
       "    <tr>\n",
       "      <td>2018-04-24 00:00:00</td>\n",
       "      <td>0.1</td>\n",
       "      <td>2.7</td>\n",
       "      <td>2.72</td>\n",
       "      <td>2.6</td>\n",
       "      <td>1.4</td>\n",
       "      <td>1.2</td>\n",
       "      <td>1.1</td>\n",
       "      <td>1.3</td>\n",
       "      <td>1.6</td>\n",
       "      <td>14.62</td>\n",
       "      <td>2.986744</td>\n",
       "    </tr>\n",
       "    <tr>\n",
       "      <td>2018-04-24 01:00:00</td>\n",
       "      <td>0.0</td>\n",
       "      <td>2.6</td>\n",
       "      <td>2.39</td>\n",
       "      <td>3.2</td>\n",
       "      <td>1.0</td>\n",
       "      <td>1.2</td>\n",
       "      <td>1.1</td>\n",
       "      <td>1.2</td>\n",
       "      <td>1.4</td>\n",
       "      <td>14.09</td>\n",
       "      <td>3.453055</td>\n",
       "    </tr>\n",
       "    <tr>\n",
       "      <td>2018-04-24 02:00:00</td>\n",
       "      <td>0.0</td>\n",
       "      <td>2.8</td>\n",
       "      <td>1.79</td>\n",
       "      <td>3.0</td>\n",
       "      <td>1.3</td>\n",
       "      <td>1.1</td>\n",
       "      <td>1.1</td>\n",
       "      <td>1.4</td>\n",
       "      <td>1.3</td>\n",
       "      <td>13.79</td>\n",
       "      <td>1.144303</td>\n",
       "    </tr>\n",
       "    <tr>\n",
       "      <td>2018-04-24 03:00:00</td>\n",
       "      <td>-0.1</td>\n",
       "      <td>2.6</td>\n",
       "      <td>1.78</td>\n",
       "      <td>3.0</td>\n",
       "      <td>1.3</td>\n",
       "      <td>1.2</td>\n",
       "      <td>1.1</td>\n",
       "      <td>1.9</td>\n",
       "      <td>1.1</td>\n",
       "      <td>13.98</td>\n",
       "      <td>1.852850</td>\n",
       "    </tr>\n",
       "    <tr>\n",
       "      <td>2018-04-24 04:00:00</td>\n",
       "      <td>-0.1</td>\n",
       "      <td>2.6</td>\n",
       "      <td>2.07</td>\n",
       "      <td>3.3</td>\n",
       "      <td>0.8</td>\n",
       "      <td>1.2</td>\n",
       "      <td>1.1</td>\n",
       "      <td>1.2</td>\n",
       "      <td>1.1</td>\n",
       "      <td>13.37</td>\n",
       "      <td>2.224315</td>\n",
       "    </tr>\n",
       "  </tbody>\n",
       "</table>\n",
       "</div>"
      ],
      "text/plain": [
       "                     Temperature   V2    V4   V5   V6   V7   V8   V9  V10  \\\n",
       "TimeDate                                                                    \n",
       "2018-04-24 00:00:00          0.1  2.7  2.72  2.6  1.4  1.2  1.1  1.3  1.6   \n",
       "2018-04-24 01:00:00          0.0  2.6  2.39  3.2  1.0  1.2  1.1  1.2  1.4   \n",
       "2018-04-24 02:00:00          0.0  2.8  1.79  3.0  1.3  1.1  1.1  1.4  1.3   \n",
       "2018-04-24 03:00:00         -0.1  2.6  1.78  3.0  1.3  1.2  1.1  1.9  1.1   \n",
       "2018-04-24 04:00:00         -0.1  2.6  2.07  3.3  0.8  1.2  1.1  1.2  1.1   \n",
       "\n",
       "                     aggLoad  V4_stoch_copy  \n",
       "TimeDate                                     \n",
       "2018-04-24 00:00:00    14.62       2.986744  \n",
       "2018-04-24 01:00:00    14.09       3.453055  \n",
       "2018-04-24 02:00:00    13.79       1.144303  \n",
       "2018-04-24 03:00:00    13.98       1.852850  \n",
       "2018-04-24 04:00:00    13.37       2.224315  "
      ]
     },
     "execution_count": 5,
     "metadata": {},
     "output_type": "execute_result"
    }
   ],
   "source": [
    "df_with_copy.head()"
   ]
  },
  {
   "cell_type": "code",
   "execution_count": null,
   "metadata": {},
   "outputs": [],
   "source": [
    "df_with_copy['Year'] = df_with_copy.index.year\n",
    "df_with_copy['Month'] = df_with_copy.index.month\n",
    "df_with_copy['Weekday Name'] = df_with_copy.index.weekday_name"
   ]
  },
  {
   "cell_type": "code",
   "execution_count": 7,
   "metadata": {},
   "outputs": [
    {
     "name": "stderr",
     "output_type": "stream",
     "text": [
      "C:\\Users\\bas35\\Anaconda3\\lib\\site-packages\\pandas\\plotting\\_matplotlib\\converter.py:103: FutureWarning: Using an implicitly registered datetime converter for a matplotlib plotting method. The converter was registered by pandas on import. Future versions of pandas will require you to explicitly register matplotlib converters.\n",
      "\n",
      "To register the converters:\n",
      "\t>>> from pandas.plotting import register_matplotlib_converters\n",
      "\t>>> register_matplotlib_converters()\n",
      "  warnings.warn(msg, FutureWarning)\n"
     ]
    },
    {
     "data": {
      "image/png": "[encoded data removed]",
      "text/plain": [
       "<Figure size 432x288 with 1 Axes>"
      ]
     },
     "metadata": {
      "needs_background": "light"
     },
     "output_type": "display_data"
    }
   ],
   "source": [
    "y1 = df_with_copy['V4'].resample('W').mean()\n",
    "y2 = df_with_copy['V4_stoch_copy'].resample('W').mean()\n",
    "\n",
    "fig, ax = plt.subplots()\n",
    "ax.plot(y1.loc['2018-10':'2019-02'], label='V4')\n",
    "ax.plot(y2.loc['2018-10':'2019-02'], marker='.', linestyle='-', linewidth=0.5, label='V4 copy')\n",
    "ax.set_ylabel('Electricity Consumption')\n",
    "ax.legend();"
   ]
  },
  {
   "cell_type": "markdown",
   "metadata": {},
   "source": [
    "# Creating Electrical Substation"
   ]
  },
  {
   "cell_type": "code",
   "execution_count": 9,
   "metadata": {},
   "outputs": [],
   "source": [
    "def input_allocation_dict(load_type_list):\n",
    "    allocation_dict = dict()\n",
    "    for load in load_type_list:\n",
    "        allocation_dict[load] = int(input('Number of '+ load + ': '))\n",
    "    return allocation_dict\n",
    "    "
   ]
  },
  {
   "cell_type": "code",
   "execution_count": 21,
   "metadata": {},
   "outputs": [],
   "source": [
    "# Returns an updated dataframe object with\n",
    "# a new profile added according to the input parameters. \n",
    "\n",
    "def read_LP(dataframe,load_type, num):\n",
    "    path = None #Finding the csv-path. Fix better solution later. .json?\n",
    "    num_list = [i for i in range(0,num +1)]\n",
    "    if load_type == 'house_new':         \n",
    "        path = '../data/new_houses.csv'\n",
    "    elif load_type == 'house_old':\n",
    "        path = '../data/old_houses.csv'\n",
    "    elif load_type == 'house_mix_DH':\n",
    "        path = '../data/mixed_ages_houses_district_heating.csv'\n",
    "    elif load_type == 'appart_DH':\n",
    "        path = '../data/new_appartments_district_heating.csv'\n",
    "    \n",
    "    if path != None:\n",
    "        LP_cols = pd.read_csv(path, index_col = 0, \n",
    "                              parse_dates = True, \n",
    "                              usecols = num_list) # Fix for out of range. Use stochastic copy?\n",
    "        LP_cols.columns = [load_type + str(i) for i in np.arange(1,len(LP_cols.columns)+1)]\n",
    "        \n",
    "        if dataframe.empty:\n",
    "            dataframe = LP_cols\n",
    "        else:  #Inner join for date compatability. Needs fixing if changing index structure!!\n",
    "            dataframe = dataframe.merge(LP_cols, how = 'inner', left_index=True, right_index=True)          \n",
    "    \n",
    "    return dataframe"
   ]
  },
  {
   "cell_type": "code",
   "execution_count": null,
   "metadata": {},
   "outputs": [],
   "source": []
  },
  {
   "cell_type": "code",
   "execution_count": null,
   "metadata": {},
   "outputs": [],
   "source": []
  },
  {
   "cell_type": "code",
   "execution_count": null,
   "metadata": {},
   "outputs": [],
   "source": [
    "df_LP = create_substation()"
   ]
  },
  {
   "cell_type": "code",
   "execution_count": null,
   "metadata": {},
   "outputs": [],
   "source": [
    "df_LP.index[0].year"
   ]
  },
  {
   "cell_type": "code",
   "execution_count": null,
   "metadata": {},
   "outputs": [],
   "source": []
  }
 ],
 "metadata": {
  "kernelspec": {
   "display_name": "Python 3",
   "language": "python",
   "name": "python3"
  }
 },
 "nbformat": 4,
 "nbformat_minor": 2
}
