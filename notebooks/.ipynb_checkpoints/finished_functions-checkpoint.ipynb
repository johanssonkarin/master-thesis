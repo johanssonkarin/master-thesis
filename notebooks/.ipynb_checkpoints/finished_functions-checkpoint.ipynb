{
 "cells": [
  {
   "cell_type": "markdown",
   "metadata": {},
   "source": [
    "# Electricity Consumption Model: Work in Progress"
   ]
  },
  {
   "cell_type": "markdown",
   "metadata": {},
   "source": [
    "## Setup"
   ]
  },
  {
   "cell_type": "code",
   "execution_count": 2,
   "metadata": {},
   "outputs": [],
   "source": [
    "# Importing libraries \n",
    "from matplotlib import pyplot as plt\n",
    "import pandas as pd\n",
    "import numpy as np\n",
    "import datetime\n",
    "import warnings\n",
    "import random\n",
    "import os\n",
    "import scipy\n",
    "import seaborn as sns\n",
    "\n",
    "# Squash warning messages for cleaner output in the notebook\n",
    "warnings.showwarning = lambda *args, **kwargs: None"
   ]
  },
  {
   "cell_type": "markdown",
   "metadata": {},
   "source": [
    "## Defining Functions"
   ]
  },
  {
   "cell_type": "markdown",
   "metadata": {},
   "source": [
    "### Preprocessing"
   ]
  },
  {
   "cell_type": "code",
   "execution_count": null,
   "metadata": {},
   "outputs": [],
   "source": [
    "# Function creating a (hopefully) cleaner dataframe of load profiles\n",
    "# from a csv-path. Printing of info is by default False and deleting\n",
    "# zero columns with 25% zeros set to True. Developed for the format of\n",
    "# the csv-files from Gudmund. \n",
    "\n",
    "def clean_gudmund_csv(csv_path, prnt = False, del_zeros_all = False, del_zeros_percent = True, \n",
    "                      interpolate = True, percent_drop_zeros = 0.25):\n",
    "    \n",
    "    dataframe = pd.read_csv(csv_path, index_col=0, parse_dates=True)\n",
    "    drop_thresh_row = int(dataframe.shape[1]*0.80) #drop if ~20% of row is empty\n",
    "    dataframe.dropna(axis=0, thresh = drop_thresh_row, inplace=True) #first row\n",
    "    \n",
    "    drop_thresh_col = int(dataframe.shape[0]*0.90) #drop if ~10% of column is empty\n",
    "    dataframe.dropna(axis=1, thresh = drop_thresh_col, inplace=True) #then col\n",
    "    \n",
    "    if del_zeros_percent: #delete columns with a percentage of zeros\n",
    "        drop_zero_cols = dataframe.columns[(dataframe == 0).sum() > percent_drop_zeros*dataframe.shape[1]]\n",
    "        dataframe.drop(drop_zero_cols, axis = 1, inplace = True)\n",
    "    elif del_zeros_all: #delete columns with ALL zeros\n",
    "        dataframe = dataframe.loc[:, (dataframe != 0).any(axis=0)] \n",
    "        \n",
    "    if interpolate: #linear interpolation for NaN values\n",
    "        dataframe.interpolate(method='linear', axis=0, limit_direction = 'both', inplace = True)\n",
    "    \n",
    "    if prnt:\n",
    "        start_time, end_time = dataframe.index[0], dataframe.index[-1]\n",
    "        nan_indexes = dataframe.loc[pd.isnull(dataframe).any(1), :].index #not printing but maybe useful\n",
    "        number_missing = len(nan_indexes) \n",
    "        df_size = (dataframe.shape[0]-1)*(dataframe.shape[1]-1) #number of values\n",
    "        percent = round(number_missing/df_size *100,3) #% with 3 decimals\n",
    "        print('Dataframe with consumption from {} load, ({} to {}).'.format(dataframe.shape[1],start_time,end_time))\n",
    "        print('Out of {} values, {} is missing ({} %).'.format(df_size,number_missing, percent))\n",
    "    \n",
    "    return dataframe"
   ]
  },
  {
   "cell_type": "code",
   "execution_count": null,
   "metadata": {},
   "outputs": [],
   "source": [
    "# A function for dropping a percentage, which is by default 50%,\n",
    "# of all columns by random. The renumber parameter renames the \n",
    "# columns 1...n if set to True. \n",
    "\n",
    "def drop_random_columns(dataframe, drop_percent = 0.5, renumber = False):\n",
    "    number_to_drop = int(dataframe.shape[1]*drop_percent)\n",
    "    columns_to_drop = random.sample(range(0, dataframe.shape[1]), number_to_drop)\n",
    "    dataframe.drop(dataframe.columns[columns_to_drop],axis=1,inplace=True)\n",
    "    \n",
    "    if renumber:\n",
    "        dataframe.columns = np.arange(1,len(dataframe.columns)+1)\n",
    "    return dataframe"
   ]
  },
  {
   "cell_type": "markdown",
   "metadata": {},
   "source": [
    "### Working with load curves"
   ]
  },
  {
   "cell_type": "code",
   "execution_count": 3,
   "metadata": {},
   "outputs": [],
   "source": [
    "# Function which takes a dataframe where\n",
    "# each column represents a load and rows = date/time\n",
    "# returns same dataframe but with a aggregated column.\n",
    "\n",
    "def add_aggregated_col(dataframe):\n",
    "    dataframe.sort_index(inplace=True) # making sure df is sorted\n",
    "    dataframe['AggregatedLoad'] = dataframe.sum(numeric_only=True, axis=1) # add new sum col\n",
    "    return dataframe"
   ]
  },
  {
   "cell_type": "code",
   "execution_count": 4,
   "metadata": {},
   "outputs": [],
   "source": [
    "# Takes a dataframe and returns a sorted list\n",
    "# of the 'AggregtedLoad' column, which should be defined. \n",
    "\n",
    "def from_df_to_sorted_lst(dataframe):\n",
    "    sorted_load_list = dataframe['AggregatedLoad'].sort_values().tolist()\n",
    "    return sorted_load_list"
   ]
  },
  {
   "cell_type": "code",
   "execution_count": 5,
   "metadata": {},
   "outputs": [],
   "source": [
    "# Function that takes a sorted list of load demand \n",
    "# values and produces a plot of the load duration curve.\n",
    "\n",
    "def plot_load_duration_curve(sorted_demand_list):\n",
    "    list_len = len(sorted_demand_list) #Number of datapoints\n",
    "    x = np.linspace(1,list_len,list_len).tolist() #List of hours\n",
    "    \n",
    "    plt.plot(x,sorted_demand_list)\n",
    "    plt.title('Load Duration curve')\n",
    "    plt.xlabel('Hours')\n",
    "    plt.ylabel('Consumption [kWh]') #Review if kwh or not later on"
   ]
  },
  {
   "cell_type": "code",
   "execution_count": 6,
   "metadata": {},
   "outputs": [],
   "source": [
    "# Function which takes dataframe and calculates mean and standard deviation. \n",
    "# Plotting and printing is by default False. \n",
    "\n",
    "def calculate_norm_stats(dataframe, plot = False, prnt = False):\n",
    "    start_date, end_date = dataframe.index[0].to_pydatetime().date(), dataframe.index[-1].to_pydatetime().date()\n",
    "    agg_load_list = dataframe['AggregatedLoad'].tolist()\n",
    "    mu, sigma = scipy.stats.norm.fit(agg_load_list)\n",
    "    \n",
    "    if plot: \n",
    "        x = np.linspace(mu - 3*sigma, mu + 3*sigma, 100)\n",
    "        plt.plot(x, scipy.stats.norm.pdf(x, mu, sigma))\n",
    "        plt.title('Gaussian distribution of hourly aggregated loads')\n",
    "        plt.show()\n",
    "        \n",
    "    if prnt:\n",
    "        print('Mean consumption from {} to {} is {} (-/+ {}).'.format(start_date,end_date,mu,sigma)) #add unit here\n",
    "    \n",
    "    return mu, sigma"
   ]
  },
  {
   "cell_type": "code",
   "execution_count": 7,
   "metadata": {},
   "outputs": [],
   "source": [
    "# A function to copy a load profile with stochastic deviation\n",
    "# from the original. The values varies according to a gaussian \n",
    "# distribution, with default and mu = 0, sigma = 0.1. The\n",
    "# funtion returns a copy of the dataframe with the new column. \n",
    "\n",
    "def copy_load_stochastic(dataframe, column_name, sigma=0.1):\n",
    "    \n",
    "    min_prob, max_prob = -sigma, sigma\n",
    "    prob_array = (max_prob - min_prob) * np.random.random_sample(size=dataframe.shape[0]) + min_prob\n",
    "    new_col_name = column_name + '_stoch_copy'\n",
    "    dataframe[new_col_name] = dataframe[column_name] + dataframe[column_name].mul(prob_array)\n",
    "    \n",
    "    return dataframe"
   ]
  },
  {
   "cell_type": "code",
   "execution_count": null,
   "metadata": {},
   "outputs": [],
   "source": [
    "# Subfunction for creating a substation. \n",
    "# Triggering just input based on a predefined \n",
    "# list of load types.\n",
    "\n",
    "def input_allocation_dict(load_type_list):\n",
    "    allocation_dict = dict()\n",
    "    for load in load_type_list:\n",
    "        allocation_dict[load] = int(input('Number of '+ load + ': '))\n",
    "    return allocation_dict"
   ]
  },
  {
   "cell_type": "code",
   "execution_count": null,
   "metadata": {},
   "outputs": [],
   "source": [
    "# Returns an updated dataframe object with\n",
    "# a new profile added according to the input parameters. \n",
    "\n",
    "def read_LP(dataframe,load_type, num):\n",
    "    path = None #Finding the csv-path. Fix better solution later. .json?\n",
    "    num_list = [i for i in range(0,num +1)]\n",
    "    if load_type == 'house_new':         \n",
    "        path = '../data/new_houses.csv'\n",
    "    elif load_type == 'house_old':\n",
    "        path = '../data/old_houses.csv'\n",
    "    elif load_type == 'house_mix_DH':\n",
    "        path = '../data/mixed_ages_houses_district_heating.csv'\n",
    "    elif load_type == 'appart_DH':\n",
    "        path = '../data/new_appartments_district_heating.csv'\n",
    "    \n",
    "    if path != None:\n",
    "        LP_cols = pd.read_csv(path, index_col = 0, \n",
    "                              parse_dates = True, \n",
    "                              usecols = num_list) # Fix for out of range. Use stochastic copy?\n",
    "        LP_cols.columns = [load_type + str(i) for i in np.arange(1,len(LP_cols.columns)+1)]\n",
    "        \n",
    "        if dataframe.empty:\n",
    "            dataframe = LP_cols\n",
    "        else:  #Inner join for date compatability. Needs fixing if changing index structure!!\n",
    "            dataframe = dataframe.merge(LP_cols, how = 'inner', left_index=True, right_index=True)          \n",
    "    \n",
    "    return dataframe"
   ]
  },
  {
   "cell_type": "code",
   "execution_count": null,
   "metadata": {},
   "outputs": [],
   "source": [
    "# Function for creating a substation with different load profiles. \n",
    "# Currently a dummy version of user input within the function. \n",
    "# Need improvement on load types and their csv-paths etc. \n",
    "\n",
    "load_type_list = ['house_new', \n",
    "                  'house_old', \n",
    "                  'house_mix_DH', \n",
    "                  'appart_DH']\n",
    "\n",
    "def create_substation():\n",
    "    \n",
    "    allocation_dict = input_allocation_dict(load_type_list) # Trigger input\n",
    "    LP_dataframe = pd.DataFrame()\n",
    "    \n",
    "    for key, value in allocation_dict.items(): # Performance here? Map was tricky\n",
    "        LP_dataframe = read_LP(LP_dataframe, key, value)\n",
    "\n",
    "    return LP_dataframe"
   ]
  },
  {
   "cell_type": "markdown",
   "metadata": {},
   "source": [
    "## Testing "
   ]
  },
  {
   "cell_type": "markdown",
   "metadata": {},
   "source": [
    "### Using the data from Claes"
   ]
  },
  {
   "cell_type": "code",
   "execution_count": 47,
   "metadata": {},
   "outputs": [
    {
     "data": {
      "image/png": "[encoded data removed]",
      "text/plain": [
       "<Figure size 432x288 with 1 Axes>"
      ]
     },
     "metadata": {
      "needs_background": "light"
     },
     "output_type": "display_data"
    },
    {
     "name": "stdout",
     "output_type": "stream",
     "text": [
      "Mean consumption from 2018-04-24 to 2019-04-24 is 16.32116290983607 (-/+ 9.37528340154718).\n"
     ]
    },
    {
     "data": {
      "image/png": "[encoded data removed]",
      "text/plain": [
       "<Figure size 432x288 with 1 Axes>"
      ]
     },
     "metadata": {
      "needs_background": "light"
     },
     "output_type": "display_data"
    }
   ],
   "source": [
    "claes_data = pd.read_csv('claes_test.csv', index_col=0, parse_dates=True)\n",
    "claes_data.head()\n",
    "\n",
    "# Drop things which is not necessary for testing yet\n",
    "claes_data.drop(columns=['Temperature','aggLoad'], inplace=True)\n",
    "claes_data.head()\n",
    "\n",
    "# Running the functions defined above\n",
    "df = add_aggregated_col(claes_data)\n",
    "lst = from_df_to_sorted_lst(df)\n",
    "\n",
    "calculate_norm_stats(df, plot = True, prnt = True)\n",
    "\n",
    "plot_load_duration_curve(lst)"
   ]
  },
  {
   "cell_type": "code",
   "execution_count": 43,
   "metadata": {},
   "outputs": [
    {
     "data": {
      "text/html": [
       "<div>\n",
       "<style scoped>\n",
       "    .dataframe tbody tr th:only-of-type {\n",
       "        vertical-align: middle;\n",
       "    }\n",
       "\n",
       "    .dataframe tbody tr th {\n",
       "        vertical-align: top;\n",
       "    }\n",
       "\n",
       "    .dataframe thead th {\n",
       "        text-align: right;\n",
       "    }\n",
       "</style>\n",
       "<table border=\"1\" class=\"dataframe\">\n",
       "  <thead>\n",
       "    <tr style=\"text-align: right;\">\n",
       "      <th></th>\n",
       "      <th>V2</th>\n",
       "      <th>V3</th>\n",
       "      <th>V4</th>\n",
       "      <th>V5</th>\n",
       "      <th>V6</th>\n",
       "      <th>V7</th>\n",
       "      <th>V8</th>\n",
       "      <th>V9</th>\n",
       "      <th>V10</th>\n",
       "      <th>AggregatedLoad</th>\n",
       "    </tr>\n",
       "    <tr>\n",
       "      <th>TimeDate</th>\n",
       "      <th></th>\n",
       "      <th></th>\n",
       "      <th></th>\n",
       "      <th></th>\n",
       "      <th></th>\n",
       "      <th></th>\n",
       "      <th></th>\n",
       "      <th></th>\n",
       "      <th></th>\n",
       "      <th></th>\n",
       "    </tr>\n",
       "  </thead>\n",
       "  <tbody>\n",
       "    <tr>\n",
       "      <th>2018-04-24 00:00:00</th>\n",
       "      <td>2.7</td>\n",
       "      <td>0.0</td>\n",
       "      <td>2.72</td>\n",
       "      <td>2.6</td>\n",
       "      <td>1.4</td>\n",
       "      <td>1.2</td>\n",
       "      <td>1.1</td>\n",
       "      <td>1.3</td>\n",
       "      <td>1.6</td>\n",
       "      <td>14.62</td>\n",
       "    </tr>\n",
       "    <tr>\n",
       "      <th>2018-04-24 01:00:00</th>\n",
       "      <td>2.6</td>\n",
       "      <td>0.0</td>\n",
       "      <td>2.39</td>\n",
       "      <td>3.2</td>\n",
       "      <td>1.0</td>\n",
       "      <td>1.2</td>\n",
       "      <td>1.1</td>\n",
       "      <td>1.2</td>\n",
       "      <td>1.4</td>\n",
       "      <td>14.09</td>\n",
       "    </tr>\n",
       "    <tr>\n",
       "      <th>2018-04-24 02:00:00</th>\n",
       "      <td>2.8</td>\n",
       "      <td>0.0</td>\n",
       "      <td>1.79</td>\n",
       "      <td>3.0</td>\n",
       "      <td>1.3</td>\n",
       "      <td>1.1</td>\n",
       "      <td>1.1</td>\n",
       "      <td>1.4</td>\n",
       "      <td>1.3</td>\n",
       "      <td>13.79</td>\n",
       "    </tr>\n",
       "    <tr>\n",
       "      <th>2018-04-24 03:00:00</th>\n",
       "      <td>2.6</td>\n",
       "      <td>0.0</td>\n",
       "      <td>1.78</td>\n",
       "      <td>3.0</td>\n",
       "      <td>1.3</td>\n",
       "      <td>1.2</td>\n",
       "      <td>1.1</td>\n",
       "      <td>1.9</td>\n",
       "      <td>1.1</td>\n",
       "      <td>13.98</td>\n",
       "    </tr>\n",
       "    <tr>\n",
       "      <th>2018-04-24 04:00:00</th>\n",
       "      <td>2.6</td>\n",
       "      <td>0.0</td>\n",
       "      <td>2.07</td>\n",
       "      <td>3.3</td>\n",
       "      <td>0.8</td>\n",
       "      <td>1.2</td>\n",
       "      <td>1.1</td>\n",
       "      <td>1.2</td>\n",
       "      <td>1.1</td>\n",
       "      <td>13.37</td>\n",
       "    </tr>\n",
       "  </tbody>\n",
       "</table>\n",
       "</div>"
      ],
      "text/plain": [
       "                      V2   V3    V4   V5   V6   V7   V8   V9  V10  \\\n",
       "TimeDate                                                            \n",
       "2018-04-24 00:00:00  2.7  0.0  2.72  2.6  1.4  1.2  1.1  1.3  1.6   \n",
       "2018-04-24 01:00:00  2.6  0.0  2.39  3.2  1.0  1.2  1.1  1.2  1.4   \n",
       "2018-04-24 02:00:00  2.8  0.0  1.79  3.0  1.3  1.1  1.1  1.4  1.3   \n",
       "2018-04-24 03:00:00  2.6  0.0  1.78  3.0  1.3  1.2  1.1  1.9  1.1   \n",
       "2018-04-24 04:00:00  2.6  0.0  2.07  3.3  0.8  1.2  1.1  1.2  1.1   \n",
       "\n",
       "                     AggregatedLoad  \n",
       "TimeDate                             \n",
       "2018-04-24 00:00:00           14.62  \n",
       "2018-04-24 01:00:00           14.09  \n",
       "2018-04-24 02:00:00           13.79  \n",
       "2018-04-24 03:00:00           13.98  \n",
       "2018-04-24 04:00:00           13.37  "
      ]
     },
     "execution_count": 43,
     "metadata": {},
     "output_type": "execute_result"
    }
   ],
   "source": [
    "claes_data.head()"
   ]
  },
  {
   "cell_type": "markdown",
   "metadata": {},
   "source": [
    "### Gudmund files"
   ]
  },
  {
   "cell_type": "code",
   "execution_count": 14,
   "metadata": {},
   "outputs": [],
   "source": [
    "new_appartments = pd.read_csv('../data/new_appartments_district_heating.csv', index_col=0, parse_dates=True)\n",
    "new_houses = pd.read_csv('../data/new_houses.csv', index_col=0, parse_dates=True)\n",
    "\n",
    "new_appartments = add_aggregated_col(new_appartments)\n",
    "new_houses = add_aggregated_col(new_houses)\n"
   ]
  },
  {
   "cell_type": "code",
   "execution_count": 19,
   "metadata": {},
   "outputs": [
    {
     "data": {
      "image/png": "[encoded data removed]",
      "text/plain": [
       "<Figure size 432x288 with 1 Axes>"
      ]
     },
     "metadata": {
      "needs_background": "light"
     },
     "output_type": "display_data"
    },
    {
     "name": "stdout",
     "output_type": "stream",
     "text": [
      "Mean consumption from 2015-10-31 to 2019-05-04 is 7.439339357704217 (-/+ 3.6409452172631145).\n",
      "new appartments 34\n"
     ]
    },
    {
     "data": {
      "image/png": "[encoded data removed]",
      "text/plain": [
       "<Figure size 432x288 with 1 Axes>"
      ]
     },
     "metadata": {
      "needs_background": "light"
     },
     "output_type": "display_data"
    },
    {
     "name": "stdout",
     "output_type": "stream",
     "text": [
      "Mean consumption from 2015-10-24 to 2020-01-14 is 90.00036756435216 (-/+ 46.38686991432364).\n",
      "new houses 48\n"
     ]
    }
   ],
   "source": [
    "calculate_norm_stats(new_appartments, plot = True, prnt = True)\n",
    "print('new appartments '+ str(new_appartments.shape[1]-1))\n",
    "\n",
    "calculate_norm_stats(new_houses, plot = True, prnt = True)\n",
    "print('new houses '+ str(new_houses.shape[1]-1))\n"
   ]
  },
  {
   "cell_type": "code",
   "execution_count": 18,
   "metadata": {},
   "outputs": [
    {
     "data": {
      "image/png": "[encoded data removed]",
      "text/plain": [
       "<Figure size 432x288 with 1 Axes>"
      ]
     },
     "metadata": {
      "needs_background": "light"
     },
     "output_type": "display_data"
    }
   ],
   "source": [
    "app_lst = from_df_to_sorted_lst(new_appartments)\n",
    "house_lst = from_df_to_sorted_lst(new_houses)\n",
    "\n",
    "plot_load_duration_curve(app_lst)\n",
    "plot_load_duration_curve(house_lst)"
   ]
  },
  {
   "cell_type": "code",
   "execution_count": null,
   "metadata": {},
   "outputs": [],
   "source": [
    "\n"
   ]
  }
 ],
 "metadata": {
  "kernel_info": {
   "name": "python3"
  },
  "kernelspec": {
   "display_name": "Python 3",
   "language": "python",
   "name": "python3"
  },
  "language_info": {
   "codemirror_mode": {
    "name": "ipython",
    "version": 3
   },
   "file_extension": ".py",
   "mimetype": "text/x-python",
   "name": "python",
   "nbconvert_exporter": "python",
   "pygments_lexer": "ipython3",
   "version": "3.7.4"
  },
  "nteract": {
   "version": "nteract-front-end@1.0.0"
  }
 },
 "nbformat": 4,
 "nbformat_minor": 2
}
