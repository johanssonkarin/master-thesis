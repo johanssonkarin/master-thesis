{
 "cells": [
  {
   "cell_type": "markdown",
   "metadata": {},
   "source": [
    "# Substation Class"
   ]
  },
  {
   "cell_type": "code",
   "execution_count": 15,
   "metadata": {},
   "outputs": [],
   "source": [
    "import numpy as np\n",
    "import pandas as pd\n",
    "import scipy"
   ]
  },
  {
   "cell_type": "code",
   "execution_count": 14,
   "metadata": {
    "scrolled": true
   },
   "outputs": [],
   "source": [
    "class Substation:\n",
    "    \n",
    "    # Initializer / Instance Attributes\n",
    "    def __init__(self, region, dataframe):\n",
    "        self.dataframe = dataframe\n",
    "        self.load_count = 0\n",
    "        self.region = region\n",
    "        self.mu = None\n",
    "        self.sigma = None\n",
    "        self.start = None\n",
    "        self.end = None\n",
    "        \n",
    "    def update_dates(self, start, end):\n",
    "        self.start = start\n",
    "        self.end = end\n",
    "        \n",
    "    def calculate_norm(self):\n",
    "        agg_load_list = self.dataframe['AggregatedLoad'].tolist()\n",
    "        self.mu, self.sigma = scipy.stats.norm.fit(agg_load_list)\n",
    "        \n",
    "    def create_date_cols(self):\n",
    "        self.dataframe['Year'] = self.dataframe.index.year\n",
    "        self.dataframe['Month'] = self.dataframe.index.month\n",
    "        self.dataframe['Weekday'] = self.dataframe.index.weekday_name\n",
    "        \n",
    "        \n",
    "    def description(self):\n",
    "        return ('Substation based on data from {} to {}. '.format(self.start,self.end)\\\n",
    "               + 'The substation contains {} loads and a total {} hours of data'.format(self.load_count,\n",
    "                                                                                        self.dataframe.shape[0]-1)\\\n",
    "                + 'The average hourly comsumption is {} (-/+ {}) kWh.'.format(self.mu,self.sigma))\n",
    "    \n",
    "    # Function cutting dataframe to whole years.\n",
    "    # By default jan-dec but can be changed to whole\n",
    "    # years from first date index. \n",
    "    def filter_whole_years(self, jan_start = False):\n",
    "        if jan_start:\n",
    "            start_date, end_date = str(self.start.year+1) +'-01-01', str(self.end.year-1) +'-12-31'\n",
    "        else:\n",
    "            max_years = math.floor((last_date - first_date) / datetime.timedelta(days=365))\n",
    "            start_date = str(first_date).split(' ',1)[0]\n",
    "            end_date = str(first_date + datetime.timedelta(days = (365 * max_years))).split(' ',1)[0]\n",
    "        self.update_dates(start_date,end_date)\n",
    "        self.dataframe = self.dataframe[start_date:end_date]\n",
    "    \n",
    "    # Function for generating and printing different kinds of\n",
    "    # information about the dataframe and load profiles. \n",
    "    def print_insights(self, \n",
    "                       duration_curve = True,\n",
    "                       numerical_info = True,\n",
    "                       month_plot = True, \n",
    "                       weekday_plot = True):\n",
    "        \n",
    "        if 'AggregatedLoad' not in self.dataframe.columns:\n",
    "            self.add_aggregated_col()\n",
    "        if 'Month' not in self.dataframe.columns: \n",
    "            self.create_date_cols()\n",
    "            \n",
    "        if duration_curve:\n",
    "            dataframe_lst = from_df_to_sorted_lst(dataframe)\n",
    "            plot_load_duration_curve(dataframe_lst)\n",
    "    \n",
    "        if month_plot:\n",
    "            %matplotlib inline\n",
    "            ax = sns.boxplot(data=self.dataframe, x='Month', y='AggregatedLoad')\n",
    "            ax.set_ylabel('kWh')\n",
    "            ax.set_title('Hourly comsumption of the substation')\n",
    "        \n",
    "        if weekday_plot:\n",
    "            %matplotlib inline\n",
    "            order = [\"Monday\", \"Tuesday\", \"Wednesday\", \"Thursday\", \"Friday\", \"Saturday\", \"Sunday\"]\n",
    "            ax1 = sns.boxplot(data=self.dataframe, x='Weekday', y='AggregatedLoad', order=order)\n",
    "            ax1.set_ylabel('kWh')\n",
    "            ax1.set_title('Hourly comsumption of the substation')\n",
    "        "
   ]
  },
  {
   "cell_type": "code",
   "execution_count": 7,
   "metadata": {},
   "outputs": [],
   "source": [
    "# Returns an updated dataframe object with\n",
    "# a new profile added according to the input parameters. \n",
    "\n",
    "def read_LP(dataframe,load_type, num, path_dict):\n",
    "    \n",
    "    num_list = [i for i in range(0,num +1)]         \n",
    "    path = path_dict[load_type]\n",
    "    \n",
    "    if path != None:\n",
    "        LP_cols = pd.read_csv(path, index_col = 0, \n",
    "                              parse_dates = True, \n",
    "                              usecols = num_list) # Fix for out of range. Use stochastic copy?\n",
    "        LP_cols.columns = [load_type + str(i) for i in np.arange(1,len(LP_cols.columns)+1)]\n",
    "        \n",
    "        if dataframe.empty:\n",
    "            dataframe = LP_cols\n",
    "        else:  #Inner join for date compatability. Needs fixing if changing index structure!!\n",
    "            dataframe = dataframe.merge(LP_cols, how = 'inner', left_index=True, right_index=True)          \n",
    "    \n",
    "    return dataframe"
   ]
  },
  {
   "cell_type": "code",
   "execution_count": 8,
   "metadata": {},
   "outputs": [],
   "source": [
    "# Subfunction for creating a substation. \n",
    "# Triggering just input based on a predefined \n",
    "# list of load types.\n",
    "\n",
    "def input_allocation_dict(load_type_list):\n",
    "    allocation_dict = dict()\n",
    "    for load in load_type_list:\n",
    "        allocation_dict[load] = int(input('Number of '+ load + ': '))\n",
    "    return allocation_dict"
   ]
  },
  {
   "cell_type": "code",
   "execution_count": 10,
   "metadata": {},
   "outputs": [],
   "source": [
    "# A function to copy a load profile with stochastic deviation\n",
    "# from the original. The values varies according to a gaussian \n",
    "# distribution, with default and mu = 0, sigma = 0.1. The\n",
    "# funtion returns a copy of the dataframe with the new column. \n",
    "\n",
    "def copy_load_stochastic(dataframe, column_name, sigma=0.1):\n",
    "    \n",
    "    min_prob, max_prob = -sigma, sigma\n",
    "    prob_array = (max_prob - min_prob) * np.random.random_sample(size=dataframe.shape[0]) + min_prob\n",
    "    new_col_name = column_name + '_stoch_copy'\n",
    "    dataframe[new_col_name] = dataframe[column_name] + dataframe[column_name].mul(prob_array)\n",
    "    \n",
    "    return dataframe"
   ]
  },
  {
   "cell_type": "code",
   "execution_count": null,
   "metadata": {},
   "outputs": [],
   "source": [
    "    # Class Attributes\n",
    "    load_csv_path = {'house_new':'../data/new_houses.csv', \n",
    "                     'house_old':'../data/old_houses.csv', \n",
    "                     'house_mix_DH': '../data/mixed_ages_houses_district_heating.csv', \n",
    "                     'appart_DH': '../data/new_appartments_district_heating.csv'\n",
    "                    } "
   ]
  }
 ],
 "metadata": {
  "kernelspec": {
   "display_name": "Python 3",
   "language": "python",
   "name": "python3"
  },
  "language_info": {
   "codemirror_mode": {
    "name": "ipython",
    "version": 3
   },
   "file_extension": ".py",
   "mimetype": "text/x-python",
   "name": "python",
   "nbconvert_exporter": "python",
   "pygments_lexer": "ipython3",
   "version": "3.7.4"
  }
 },
 "nbformat": 4,
 "nbformat_minor": 2
}
